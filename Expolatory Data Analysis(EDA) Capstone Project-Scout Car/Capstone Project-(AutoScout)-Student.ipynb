{
 "cells": [
  {
   "cell_type": "markdown",
   "metadata": {
    "id": "Bv1I7_aas1L3"
   },
   "source": [
    "___\n",
    "\n",
    "<p style=\"text-align: center;\"><img src=\"https://docs.google.com/uc?id=1lY0Uj5R04yMY3-ZppPWxqCr5pvBLYPnV\" class=\"img-fluid\" \n",
    "alt=\"CLRSWY\"></p>\n",
    "\n",
    "## <p style=\"background-color:#FDFEFE; font-family:newtimeroman; color:#9d4f8c; font-size:100%; text-align:center; border-radius:10px 10px;\">WAY TO REINVENT YOURSELF</p>"
   ]
  },
  {
   "cell_type": "markdown",
   "metadata": {
    "id": "Bkw3_pB0s1L-"
   },
   "source": [
    "<img src=https://i.ibb.co/wJW61Y2/Used-cars.jpg width=\"700\" height=\"200\">\n",
    "\n",
    "## <p style=\"background-color:#FDFEFE; font-family:newtimeroman; color:#060108; font-size:200%; text-align:center; border-radius:10px 10px;\">The Capstone Project of Data Analytics Module</p>\n",
    "\n",
    "## <p style=\"background-color:#FDFEFE; font-family:newtimeroman; color:#060108; font-size:150%; text-align:center; border-radius:10px 10px;\">Car Price Prediction EDA</p>"
   ]
  },
  {
   "cell_type": "markdown",
   "metadata": {
    "id": "BtStUOQNs1L_"
   },
   "source": [
    "# WELCOME!"
   ]
  },
  {
   "cell_type": "markdown",
   "metadata": {
    "id": "Z_oWczxZs1MA"
   },
   "source": [
    "## Introduction\n",
    "Welcome to \"***AutoScout Data Analysis Project***\". This is the capstone project of ***Data Analysis*** Module. **Auto Scout** data which using for this project, scraped from the on-line car trading company in 2019, contains many features of 9 different car models. In this project, you will have the opportunity to apply many commonly used algorithms for Data Cleaning and Exploratory Data Analysis by using many Python libraries such as Numpy, Pandas, Matplotlib, Seaborn, Scipy you will analyze clean dataset.\n",
    "\n",
    "The project consists of 3 parts:\n",
    "* First part is related with 'data cleaning'. It deals with Incorrect Headers, Incorrect Format, Anomalies, Dropping useless columns.\n",
    "* Second part is related with 'filling data'. It deals with Missing Values. Categorical to numeric transformation is done.\n",
    "* Third part is related with 'handling outliers of data' via Visualisation libraries. Some insights are extracted.\n"
   ]
  },
  {
   "cell_type": "code",
   "execution_count": 1,
   "metadata": {},
   "outputs": [],
   "source": [
    "#df.head(3).T"
   ]
  },
  {
   "cell_type": "code",
   "execution_count": 41,
   "metadata": {},
   "outputs": [
    {
     "data": {
      "text/plain": [
       "0        [\\n5\\n]\n",
       "1        [\\n3\\n]\n",
       "2        [\\n4\\n]\n",
       "3        [\\n3\\n]\n",
       "4        [\\n5\\n]\n",
       "          ...   \n",
       "15914    [\\n5\\n]\n",
       "15915    [\\n5\\n]\n",
       "15916    [\\n5\\n]\n",
       "15917    [\\n5\\n]\n",
       "15918    [\\n5\\n]\n",
       "Name: nr_of_doors, Length: 15919, dtype: object"
      ]
     },
     "execution_count": 41,
     "metadata": {},
     "output_type": "execute_result"
    }
   ],
   "source": [
    "df.nr_of_doors"
   ]
  },
  {
   "cell_type": "markdown",
   "metadata": {
    "id": "vvgJ5KWTs1MB"
   },
   "source": [
    "# PART- 1 `( Data Cleaning )`"
   ]
  },
  {
   "cell_type": "code",
   "execution_count": 3,
   "metadata": {},
   "outputs": [],
   "source": [
    "import numpy as np\n",
    "import pandas as pd\n",
    "import matplotlib.pyplot as plt\n",
    "import seaborn as sns\n",
    "import warnings\n",
    "\n",
    "warnings.filterwarnings(\"ignore\")\n",
    "warnings.warn(\"this will not show\")\n",
    "\n",
    "plt.rcParams[\"figure.figsize\"] = (10, 6)\n",
    "sns.set_style(\"whitegrid\")\n",
    "\n",
    "pd.set_option(\"display.float_format\", lambda x: \"%.3f\" % x)\n",
    "\n",
    "# Set it None to display all rows in the dataframe\n",
    "# pd.set_option(‘display.max_rows’, None)\n",
    "\n",
    "# Set it to None to display all columns in the dataframe\n",
    "pd.set_option(\"display.max_columns\", None)"
   ]
  },
  {
   "cell_type": "code",
   "execution_count": 4,
   "metadata": {},
   "outputs": [],
   "source": [
    "df = pd.read_json(\"scout_car.json\", lines=True)"
   ]
  },
  {
   "cell_type": "code",
   "execution_count": 5,
   "metadata": {},
   "outputs": [
    {
     "name": "stdout",
     "output_type": "stream",
     "text": [
      "<class 'pandas.core.frame.DataFrame'>\n",
      "RangeIndex: 15919 entries, 0 to 15918\n",
      "Data columns (total 54 columns):\n",
      " #   Column                         Non-Null Count  Dtype  \n",
      "---  ------                         --------------  -----  \n",
      " 0   url                            15919 non-null  object \n",
      " 1   make_model                     15919 non-null  object \n",
      " 2   short_description              15873 non-null  object \n",
      " 3   body_type                      15859 non-null  object \n",
      " 4   price                          15919 non-null  int64  \n",
      " 5   vat                            11406 non-null  object \n",
      " 6   km                             15919 non-null  object \n",
      " 7   registration                   15919 non-null  object \n",
      " 8   prev_owner                     9091 non-null   object \n",
      " 9   kW                             0 non-null      float64\n",
      " 10  hp                             15919 non-null  object \n",
      " 11  Type                           15917 non-null  object \n",
      " 12  Previous Owners                9279 non-null   object \n",
      " 13  Next Inspection                3535 non-null   object \n",
      " 14  Inspection new                 3932 non-null   object \n",
      " 15  Warranty                       10499 non-null  object \n",
      " 16  Full Service                   8215 non-null   object \n",
      " 17  Non-smoking Vehicle            7177 non-null   object \n",
      " 18  null                           15919 non-null  object \n",
      " 19  Make                           15919 non-null  object \n",
      " 20  Model                          15919 non-null  object \n",
      " 21  Offer Number                   12744 non-null  object \n",
      " 22  First Registration             14322 non-null  object \n",
      " 23  Body Color                     15322 non-null  object \n",
      " 24  Paint Type                     10147 non-null  object \n",
      " 25  Body Color Original            12160 non-null  object \n",
      " 26  Upholstery                     12199 non-null  object \n",
      " 27  Body                           15859 non-null  object \n",
      " 28  Nr. of Doors                   15707 non-null  object \n",
      " 29  Nr. of Seats                   14942 non-null  object \n",
      " 30  Model Code                     4978 non-null   object \n",
      " 31  Gearing Type                   15919 non-null  object \n",
      " 32  Displacement                   15423 non-null  object \n",
      " 33  Cylinders                      10239 non-null  object \n",
      " 34  Weight                         8945 non-null   object \n",
      " 35  Drive chain                    9061 non-null   object \n",
      " 36  Fuel                           15919 non-null  object \n",
      " 37  Consumption                    14013 non-null  object \n",
      " 38  CO2 Emission                   14111 non-null  object \n",
      " 39  Emission Class                 12898 non-null  object \n",
      " 40  \n",
      "Comfort & Convenience\n",
      "        14999 non-null  object \n",
      " 41  \n",
      "Entertainment & Media\n",
      "        14545 non-null  object \n",
      " 42  \n",
      "Extras\n",
      "                       12957 non-null  object \n",
      " 43  \n",
      "Safety & Security\n",
      "            14937 non-null  object \n",
      " 44  description                    15919 non-null  object \n",
      " 45  Emission Label                 3985 non-null   object \n",
      " 46  Gears                          11207 non-null  object \n",
      " 47  Country version                7586 non-null   object \n",
      " 48  Electricity consumption        137 non-null    object \n",
      " 49  Last Service Date              566 non-null    object \n",
      " 50  Other Fuel Types               880 non-null    object \n",
      " 51  Availability                   635 non-null    object \n",
      " 52  Last Timing Belt Service Date  16 non-null     object \n",
      " 53  Available from                 272 non-null    object \n",
      "dtypes: float64(1), int64(1), object(52)\n",
      "memory usage: 6.6+ MB\n"
     ]
    }
   ],
   "source": [
    "df.info()"
   ]
  },
  {
   "cell_type": "code",
   "execution_count": 6,
   "metadata": {},
   "outputs": [
    {
     "data": {
      "text/html": [
       "<div>\n",
       "<style scoped>\n",
       "    .dataframe tbody tr th:only-of-type {\n",
       "        vertical-align: middle;\n",
       "    }\n",
       "\n",
       "    .dataframe tbody tr th {\n",
       "        vertical-align: top;\n",
       "    }\n",
       "\n",
       "    .dataframe thead th {\n",
       "        text-align: right;\n",
       "    }\n",
       "</style>\n",
       "<table border=\"1\" class=\"dataframe\">\n",
       "  <thead>\n",
       "    <tr style=\"text-align: right;\">\n",
       "      <th></th>\n",
       "      <th>6068</th>\n",
       "      <th>13535</th>\n",
       "      <th>15847</th>\n",
       "      <th>4319</th>\n",
       "    </tr>\n",
       "  </thead>\n",
       "  <tbody>\n",
       "    <tr>\n",
       "      <th>url</th>\n",
       "      <td>https://www.autoscout24.com//offers/opel-astra...</td>\n",
       "      <td>https://www.autoscout24.com//offers/renault-cl...</td>\n",
       "      <td>https://www.autoscout24.com//offers/renault-es...</td>\n",
       "      <td>https://www.autoscout24.com//offers/audi-a3-1-...</td>\n",
       "    </tr>\n",
       "    <tr>\n",
       "      <th>make_model</th>\n",
       "      <td>Opel Astra</td>\n",
       "      <td>Renault Clio</td>\n",
       "      <td>Renault Espace</td>\n",
       "      <td>Audi A3</td>\n",
       "    </tr>\n",
       "    <tr>\n",
       "      <th>short_description</th>\n",
       "      <td>1.6 CDTi S/S Elegance 100 kW (136 CV)</td>\n",
       "      <td>1.5 dCi 8V 75CV Start&amp;Stop 5 porte Van</td>\n",
       "      <td>Initale 2,0dCi 200PS EDC E6dT</td>\n",
       "      <td>1.0 TFSI</td>\n",
       "    </tr>\n",
       "    <tr>\n",
       "      <th>body_type</th>\n",
       "      <td>Compact</td>\n",
       "      <td>Sedans</td>\n",
       "      <td>Van</td>\n",
       "      <td>Sedans</td>\n",
       "    </tr>\n",
       "    <tr>\n",
       "      <th>price</th>\n",
       "      <td>8450</td>\n",
       "      <td>8100</td>\n",
       "      <td>45990</td>\n",
       "      <td>17500</td>\n",
       "    </tr>\n",
       "    <tr>\n",
       "      <th>vat</th>\n",
       "      <td>VAT deductible</td>\n",
       "      <td>VAT deductible</td>\n",
       "      <td>None</td>\n",
       "      <td>Price negotiable</td>\n",
       "    </tr>\n",
       "    <tr>\n",
       "      <th>km</th>\n",
       "      <td>78,000 km</td>\n",
       "      <td>50,052 km</td>\n",
       "      <td>500 km</td>\n",
       "      <td>36,000 km</td>\n",
       "    </tr>\n",
       "    <tr>\n",
       "      <th>registration</th>\n",
       "      <td>05/2016</td>\n",
       "      <td>06/2017</td>\n",
       "      <td>05/2019</td>\n",
       "      <td>04/2017</td>\n",
       "    </tr>\n",
       "    <tr>\n",
       "      <th>prev_owner</th>\n",
       "      <td>None</td>\n",
       "      <td>None</td>\n",
       "      <td>None</td>\n",
       "      <td>None</td>\n",
       "    </tr>\n",
       "    <tr>\n",
       "      <th>kW</th>\n",
       "      <td>NaN</td>\n",
       "      <td>NaN</td>\n",
       "      <td>NaN</td>\n",
       "      <td>NaN</td>\n",
       "    </tr>\n",
       "    <tr>\n",
       "      <th>hp</th>\n",
       "      <td>100 kW</td>\n",
       "      <td>55 kW</td>\n",
       "      <td>147 kW</td>\n",
       "      <td>85 kW</td>\n",
       "    </tr>\n",
       "    <tr>\n",
       "      <th>Type</th>\n",
       "      <td>[, Used, , Diesel (Particulate Filter)]</td>\n",
       "      <td>[, Used, , Diesel]</td>\n",
       "      <td>[, Demonstration, , Diesel]</td>\n",
       "      <td>[, Used, , Gasoline]</td>\n",
       "    </tr>\n",
       "    <tr>\n",
       "      <th>Previous Owners</th>\n",
       "      <td>NaN</td>\n",
       "      <td>NaN</td>\n",
       "      <td>NaN</td>\n",
       "      <td>NaN</td>\n",
       "    </tr>\n",
       "    <tr>\n",
       "      <th>Next Inspection</th>\n",
       "      <td>NaN</td>\n",
       "      <td>NaN</td>\n",
       "      <td>\\n05/2022\\n</td>\n",
       "      <td>NaN</td>\n",
       "    </tr>\n",
       "    <tr>\n",
       "      <th>Inspection new</th>\n",
       "      <td>NaN</td>\n",
       "      <td>NaN</td>\n",
       "      <td>NaN</td>\n",
       "      <td>NaN</td>\n",
       "    </tr>\n",
       "    <tr>\n",
       "      <th>Warranty</th>\n",
       "      <td>\\n12 months\\n</td>\n",
       "      <td>\\n12 months\\n</td>\n",
       "      <td>[\\n48 months\\n, \\n139 g CO2/km (comb)\\n]</td>\n",
       "      <td>NaN</td>\n",
       "    </tr>\n",
       "    <tr>\n",
       "      <th>Full Service</th>\n",
       "      <td>NaN</td>\n",
       "      <td>NaN</td>\n",
       "      <td>[\\n, \\n]</td>\n",
       "      <td>NaN</td>\n",
       "    </tr>\n",
       "    <tr>\n",
       "      <th>Non-smoking Vehicle</th>\n",
       "      <td>[\\n, \\n, \\n104 g CO2/km (comb)\\n]</td>\n",
       "      <td>NaN</td>\n",
       "      <td>NaN</td>\n",
       "      <td>NaN</td>\n",
       "    </tr>\n",
       "    <tr>\n",
       "      <th>null</th>\n",
       "      <td>[]</td>\n",
       "      <td>[]</td>\n",
       "      <td>[]</td>\n",
       "      <td>[]</td>\n",
       "    </tr>\n",
       "    <tr>\n",
       "      <th>Make</th>\n",
       "      <td>\\nOpel\\n</td>\n",
       "      <td>\\nRenault\\n</td>\n",
       "      <td>\\nRenault\\n</td>\n",
       "      <td>\\nAudi\\n</td>\n",
       "    </tr>\n",
       "    <tr>\n",
       "      <th>Model</th>\n",
       "      <td>[\\n, Astra, \\n]</td>\n",
       "      <td>[\\n, Clio, \\n]</td>\n",
       "      <td>[\\n, Espace, \\n]</td>\n",
       "      <td>[\\n, A3, \\n]</td>\n",
       "    </tr>\n",
       "    <tr>\n",
       "      <th>Offer Number</th>\n",
       "      <td>[\\n34JNR\\n]</td>\n",
       "      <td>[\\n2663958\\n]</td>\n",
       "      <td>[\\n1-76907\\n]</td>\n",
       "      <td>NaN</td>\n",
       "    </tr>\n",
       "    <tr>\n",
       "      <th>First Registration</th>\n",
       "      <td>[\\n, 2016, \\n]</td>\n",
       "      <td>[\\n, 2017, \\n]</td>\n",
       "      <td>[\\n, 2019, \\n]</td>\n",
       "      <td>[\\n, 2017, \\n]</td>\n",
       "    </tr>\n",
       "    <tr>\n",
       "      <th>Body Color</th>\n",
       "      <td>[\\n, White, \\n]</td>\n",
       "      <td>[\\n, White, \\n]</td>\n",
       "      <td>[\\n, Black, \\n]</td>\n",
       "      <td>[\\n, Grey, \\n]</td>\n",
       "    </tr>\n",
       "    <tr>\n",
       "      <th>Paint Type</th>\n",
       "      <td>NaN</td>\n",
       "      <td>[\\nUni/basic\\n]</td>\n",
       "      <td>[\\nMetallic\\n]</td>\n",
       "      <td>NaN</td>\n",
       "    </tr>\n",
       "    <tr>\n",
       "      <th>Body Color Original</th>\n",
       "      <td>NaN</td>\n",
       "      <td>[\\nBianco\\n]</td>\n",
       "      <td>[\\nBlack-Pearl\\n]</td>\n",
       "      <td>NaN</td>\n",
       "    </tr>\n",
       "    <tr>\n",
       "      <th>Upholstery</th>\n",
       "      <td>[\\nBlack\\n]</td>\n",
       "      <td>NaN</td>\n",
       "      <td>NaN</td>\n",
       "      <td>NaN</td>\n",
       "    </tr>\n",
       "    <tr>\n",
       "      <th>Body</th>\n",
       "      <td>[\\n, Compact, \\n]</td>\n",
       "      <td>[\\n, Sedans, \\n]</td>\n",
       "      <td>[\\n, Van, \\n]</td>\n",
       "      <td>[\\n, Sedans, \\n]</td>\n",
       "    </tr>\n",
       "    <tr>\n",
       "      <th>Nr. of Doors</th>\n",
       "      <td>[\\n4\\n]</td>\n",
       "      <td>[\\n5\\n]</td>\n",
       "      <td>[\\n5\\n]</td>\n",
       "      <td>[\\n3\\n]</td>\n",
       "    </tr>\n",
       "    <tr>\n",
       "      <th>Nr. of Seats</th>\n",
       "      <td>[\\n5\\n]</td>\n",
       "      <td>[\\n2\\n]</td>\n",
       "      <td>[\\n5\\n]</td>\n",
       "      <td>[\\n5\\n]</td>\n",
       "    </tr>\n",
       "    <tr>\n",
       "      <th>Model Code</th>\n",
       "      <td>NaN</td>\n",
       "      <td>NaN</td>\n",
       "      <td>NaN</td>\n",
       "      <td>NaN</td>\n",
       "    </tr>\n",
       "    <tr>\n",
       "      <th>Gearing Type</th>\n",
       "      <td>[\\n, Manual, \\n]</td>\n",
       "      <td>[\\n, Manual, \\n]</td>\n",
       "      <td>[\\n, Automatic, \\n]</td>\n",
       "      <td>[\\n, Manual, \\n]</td>\n",
       "    </tr>\n",
       "    <tr>\n",
       "      <th>Displacement</th>\n",
       "      <td>[\\n1,598 cc\\n]</td>\n",
       "      <td>[\\n1,461 cc\\n]</td>\n",
       "      <td>[\\n1,997 cc\\n]</td>\n",
       "      <td>[\\n999 cc\\n]</td>\n",
       "    </tr>\n",
       "    <tr>\n",
       "      <th>Cylinders</th>\n",
       "      <td>[\\n4\\n]</td>\n",
       "      <td>NaN</td>\n",
       "      <td>NaN</td>\n",
       "      <td>[\\n3\\n]</td>\n",
       "    </tr>\n",
       "    <tr>\n",
       "      <th>Weight</th>\n",
       "      <td>[\\n1,503 kg\\n]</td>\n",
       "      <td>NaN</td>\n",
       "      <td>[\\n1,875 kg\\n]</td>\n",
       "      <td>[\\n1,225 kg\\n]</td>\n",
       "    </tr>\n",
       "    <tr>\n",
       "      <th>Drive chain</th>\n",
       "      <td>[\\nfront\\n]</td>\n",
       "      <td>[\\nfront\\n]</td>\n",
       "      <td>NaN</td>\n",
       "      <td>NaN</td>\n",
       "    </tr>\n",
       "    <tr>\n",
       "      <th>Fuel</th>\n",
       "      <td>[\\n, Diesel (Particulate Filter), \\n]</td>\n",
       "      <td>[\\n, Diesel, \\n]</td>\n",
       "      <td>[\\n, Diesel, \\n]</td>\n",
       "      <td>[\\n, Gasoline, \\n]</td>\n",
       "    </tr>\n",
       "    <tr>\n",
       "      <th>Consumption</th>\n",
       "      <td>[[3.9 l/100 km (comb)], [4.6 l/100 km (city)],...</td>\n",
       "      <td>[[3.3 l/100 km (comb)], [3.5 l/100 km (city)],...</td>\n",
       "      <td>[[5.3 l/100 km (comb)], [], []]</td>\n",
       "      <td>[[4.5 l/100 km (comb)], [5.5 l/100 km (city)],...</td>\n",
       "    </tr>\n",
       "    <tr>\n",
       "      <th>CO2 Emission</th>\n",
       "      <td>[\\n104 g CO2/km (comb)\\n]</td>\n",
       "      <td>NaN</td>\n",
       "      <td>[\\n139 g CO2/km (comb)\\n]</td>\n",
       "      <td>[\\n104 g CO2/km (comb)\\n]</td>\n",
       "    </tr>\n",
       "    <tr>\n",
       "      <th>Emission Class</th>\n",
       "      <td>[\\nEuro 6\\n]</td>\n",
       "      <td>[\\nEuro 6\\n]</td>\n",
       "      <td>NaN</td>\n",
       "      <td>[\\nEuro 6\\n]</td>\n",
       "    </tr>\n",
       "    <tr>\n",
       "      <th>\\nComfort &amp; Convenience\\n</th>\n",
       "      <td>[Air conditioning, Cruise control, Multi-funct...</td>\n",
       "      <td>[Air conditioning, Automatic climate control, ...</td>\n",
       "      <td>[Air conditioning, Automatic climate control, ...</td>\n",
       "      <td>[Air conditioning, Armrest, Automatic climate ...</td>\n",
       "    </tr>\n",
       "    <tr>\n",
       "      <th>\\nEntertainment &amp; Media\\n</th>\n",
       "      <td>[Bluetooth, On-board computer, Radio]</td>\n",
       "      <td>NaN</td>\n",
       "      <td>[Hands-free equipment, On-board computer, Soun...</td>\n",
       "      <td>[Bluetooth, CD player, Hands-free equipment, M...</td>\n",
       "    </tr>\n",
       "    <tr>\n",
       "      <th>\\nExtras\\n</th>\n",
       "      <td>[Alloy wheels, Voice Control]</td>\n",
       "      <td>NaN</td>\n",
       "      <td>[Alloy wheels, Touch screen]</td>\n",
       "      <td>[Alloy wheels, Sport seats, Voice Control]</td>\n",
       "    </tr>\n",
       "    <tr>\n",
       "      <th>\\nSafety &amp; Security\\n</th>\n",
       "      <td>[ABS, Central door lock, Daytime running light...</td>\n",
       "      <td>[ABS, Alarm system, Central door lock, Driver-...</td>\n",
       "      <td>[ABS, Adaptive headlights, Blind spot monitor,...</td>\n",
       "      <td>[ABS, Adaptive headlights, Alarm system, Centr...</td>\n",
       "    </tr>\n",
       "    <tr>\n",
       "      <th>description</th>\n",
       "      <td>[\\nPrecio financiado: 8. 450€, 159 EUROS al me...</td>\n",
       "      <td>[\\n, Consegna Gratuita in tutta Italia. , Ulte...</td>\n",
       "      <td>[\\nLAGERWAGEN ABVERKAUF !, Mit Renault ALL IN ...</td>\n",
       "      <td>[\\nVéhicule Audi A3 de mi 2017 36000km ( evolu...</td>\n",
       "    </tr>\n",
       "    <tr>\n",
       "      <th>Emission Label</th>\n",
       "      <td>NaN</td>\n",
       "      <td>NaN</td>\n",
       "      <td>NaN</td>\n",
       "      <td>NaN</td>\n",
       "    </tr>\n",
       "    <tr>\n",
       "      <th>Gears</th>\n",
       "      <td>[\\n6\\n]</td>\n",
       "      <td>[\\n5\\n]</td>\n",
       "      <td>[\\n6\\n]</td>\n",
       "      <td>[\\n6\\n]</td>\n",
       "    </tr>\n",
       "    <tr>\n",
       "      <th>Country version</th>\n",
       "      <td>NaN</td>\n",
       "      <td>NaN</td>\n",
       "      <td>[\\nAustria\\n]</td>\n",
       "      <td>NaN</td>\n",
       "    </tr>\n",
       "    <tr>\n",
       "      <th>Electricity consumption</th>\n",
       "      <td>NaN</td>\n",
       "      <td>NaN</td>\n",
       "      <td>NaN</td>\n",
       "      <td>NaN</td>\n",
       "    </tr>\n",
       "    <tr>\n",
       "      <th>Last Service Date</th>\n",
       "      <td>NaN</td>\n",
       "      <td>NaN</td>\n",
       "      <td>NaN</td>\n",
       "      <td>NaN</td>\n",
       "    </tr>\n",
       "    <tr>\n",
       "      <th>Other Fuel Types</th>\n",
       "      <td>NaN</td>\n",
       "      <td>NaN</td>\n",
       "      <td>NaN</td>\n",
       "      <td>NaN</td>\n",
       "    </tr>\n",
       "    <tr>\n",
       "      <th>Availability</th>\n",
       "      <td>NaN</td>\n",
       "      <td>NaN</td>\n",
       "      <td>NaN</td>\n",
       "      <td>NaN</td>\n",
       "    </tr>\n",
       "    <tr>\n",
       "      <th>Last Timing Belt Service Date</th>\n",
       "      <td>NaN</td>\n",
       "      <td>NaN</td>\n",
       "      <td>NaN</td>\n",
       "      <td>NaN</td>\n",
       "    </tr>\n",
       "    <tr>\n",
       "      <th>Available from</th>\n",
       "      <td>NaN</td>\n",
       "      <td>NaN</td>\n",
       "      <td>NaN</td>\n",
       "      <td>NaN</td>\n",
       "    </tr>\n",
       "  </tbody>\n",
       "</table>\n",
       "</div>"
      ],
      "text/plain": [
       "                                                                           6068   \\\n",
       "url                            https://www.autoscout24.com//offers/opel-astra...   \n",
       "make_model                                                            Opel Astra   \n",
       "short_description                          1.6 CDTi S/S Elegance 100 kW (136 CV)   \n",
       "body_type                                                                Compact   \n",
       "price                                                                       8450   \n",
       "vat                                                               VAT deductible   \n",
       "km                                                                     78,000 km   \n",
       "registration                                                             05/2016   \n",
       "prev_owner                                                                  None   \n",
       "kW                                                                           NaN   \n",
       "hp                                                                        100 kW   \n",
       "Type                                     [, Used, , Diesel (Particulate Filter)]   \n",
       "Previous Owners                                                              NaN   \n",
       "Next Inspection                                                              NaN   \n",
       "Inspection new                                                               NaN   \n",
       "Warranty                                                           \\n12 months\\n   \n",
       "Full Service                                                                 NaN   \n",
       "Non-smoking Vehicle                            [\\n, \\n, \\n104 g CO2/km (comb)\\n]   \n",
       "null                                                                          []   \n",
       "Make                                                                    \\nOpel\\n   \n",
       "Model                                                            [\\n, Astra, \\n]   \n",
       "Offer Number                                                         [\\n34JNR\\n]   \n",
       "First Registration                                                [\\n, 2016, \\n]   \n",
       "Body Color                                                       [\\n, White, \\n]   \n",
       "Paint Type                                                                   NaN   \n",
       "Body Color Original                                                          NaN   \n",
       "Upholstery                                                           [\\nBlack\\n]   \n",
       "Body                                                           [\\n, Compact, \\n]   \n",
       "Nr. of Doors                                                             [\\n4\\n]   \n",
       "Nr. of Seats                                                             [\\n5\\n]   \n",
       "Model Code                                                                   NaN   \n",
       "Gearing Type                                                    [\\n, Manual, \\n]   \n",
       "Displacement                                                      [\\n1,598 cc\\n]   \n",
       "Cylinders                                                                [\\n4\\n]   \n",
       "Weight                                                            [\\n1,503 kg\\n]   \n",
       "Drive chain                                                          [\\nfront\\n]   \n",
       "Fuel                                       [\\n, Diesel (Particulate Filter), \\n]   \n",
       "Consumption                    [[3.9 l/100 km (comb)], [4.6 l/100 km (city)],...   \n",
       "CO2 Emission                                           [\\n104 g CO2/km (comb)\\n]   \n",
       "Emission Class                                                      [\\nEuro 6\\n]   \n",
       "\\nComfort & Convenience\\n      [Air conditioning, Cruise control, Multi-funct...   \n",
       "\\nEntertainment & Media\\n                  [Bluetooth, On-board computer, Radio]   \n",
       "\\nExtras\\n                                         [Alloy wheels, Voice Control]   \n",
       "\\nSafety & Security\\n          [ABS, Central door lock, Daytime running light...   \n",
       "description                    [\\nPrecio financiado: 8. 450€, 159 EUROS al me...   \n",
       "Emission Label                                                               NaN   \n",
       "Gears                                                                    [\\n6\\n]   \n",
       "Country version                                                              NaN   \n",
       "Electricity consumption                                                      NaN   \n",
       "Last Service Date                                                            NaN   \n",
       "Other Fuel Types                                                             NaN   \n",
       "Availability                                                                 NaN   \n",
       "Last Timing Belt Service Date                                                NaN   \n",
       "Available from                                                               NaN   \n",
       "\n",
       "                                                                           13535  \\\n",
       "url                            https://www.autoscout24.com//offers/renault-cl...   \n",
       "make_model                                                          Renault Clio   \n",
       "short_description                         1.5 dCi 8V 75CV Start&Stop 5 porte Van   \n",
       "body_type                                                                 Sedans   \n",
       "price                                                                       8100   \n",
       "vat                                                               VAT deductible   \n",
       "km                                                                     50,052 km   \n",
       "registration                                                             06/2017   \n",
       "prev_owner                                                                  None   \n",
       "kW                                                                           NaN   \n",
       "hp                                                                         55 kW   \n",
       "Type                                                          [, Used, , Diesel]   \n",
       "Previous Owners                                                              NaN   \n",
       "Next Inspection                                                              NaN   \n",
       "Inspection new                                                               NaN   \n",
       "Warranty                                                           \\n12 months\\n   \n",
       "Full Service                                                                 NaN   \n",
       "Non-smoking Vehicle                                                          NaN   \n",
       "null                                                                          []   \n",
       "Make                                                                 \\nRenault\\n   \n",
       "Model                                                             [\\n, Clio, \\n]   \n",
       "Offer Number                                                       [\\n2663958\\n]   \n",
       "First Registration                                                [\\n, 2017, \\n]   \n",
       "Body Color                                                       [\\n, White, \\n]   \n",
       "Paint Type                                                       [\\nUni/basic\\n]   \n",
       "Body Color Original                                                 [\\nBianco\\n]   \n",
       "Upholstery                                                                   NaN   \n",
       "Body                                                            [\\n, Sedans, \\n]   \n",
       "Nr. of Doors                                                             [\\n5\\n]   \n",
       "Nr. of Seats                                                             [\\n2\\n]   \n",
       "Model Code                                                                   NaN   \n",
       "Gearing Type                                                    [\\n, Manual, \\n]   \n",
       "Displacement                                                      [\\n1,461 cc\\n]   \n",
       "Cylinders                                                                    NaN   \n",
       "Weight                                                                       NaN   \n",
       "Drive chain                                                          [\\nfront\\n]   \n",
       "Fuel                                                            [\\n, Diesel, \\n]   \n",
       "Consumption                    [[3.3 l/100 km (comb)], [3.5 l/100 km (city)],...   \n",
       "CO2 Emission                                                                 NaN   \n",
       "Emission Class                                                      [\\nEuro 6\\n]   \n",
       "\\nComfort & Convenience\\n      [Air conditioning, Automatic climate control, ...   \n",
       "\\nEntertainment & Media\\n                                                    NaN   \n",
       "\\nExtras\\n                                                                   NaN   \n",
       "\\nSafety & Security\\n          [ABS, Alarm system, Central door lock, Driver-...   \n",
       "description                    [\\n, Consegna Gratuita in tutta Italia. , Ulte...   \n",
       "Emission Label                                                               NaN   \n",
       "Gears                                                                    [\\n5\\n]   \n",
       "Country version                                                              NaN   \n",
       "Electricity consumption                                                      NaN   \n",
       "Last Service Date                                                            NaN   \n",
       "Other Fuel Types                                                             NaN   \n",
       "Availability                                                                 NaN   \n",
       "Last Timing Belt Service Date                                                NaN   \n",
       "Available from                                                               NaN   \n",
       "\n",
       "                                                                           15847  \\\n",
       "url                            https://www.autoscout24.com//offers/renault-es...   \n",
       "make_model                                                        Renault Espace   \n",
       "short_description                                  Initale 2,0dCi 200PS EDC E6dT   \n",
       "body_type                                                                    Van   \n",
       "price                                                                      45990   \n",
       "vat                                                                         None   \n",
       "km                                                                        500 km   \n",
       "registration                                                             05/2019   \n",
       "prev_owner                                                                  None   \n",
       "kW                                                                           NaN   \n",
       "hp                                                                        147 kW   \n",
       "Type                                                 [, Demonstration, , Diesel]   \n",
       "Previous Owners                                                              NaN   \n",
       "Next Inspection                                                      \\n05/2022\\n   \n",
       "Inspection new                                                               NaN   \n",
       "Warranty                                [\\n48 months\\n, \\n139 g CO2/km (comb)\\n]   \n",
       "Full Service                                                            [\\n, \\n]   \n",
       "Non-smoking Vehicle                                                          NaN   \n",
       "null                                                                          []   \n",
       "Make                                                                 \\nRenault\\n   \n",
       "Model                                                           [\\n, Espace, \\n]   \n",
       "Offer Number                                                       [\\n1-76907\\n]   \n",
       "First Registration                                                [\\n, 2019, \\n]   \n",
       "Body Color                                                       [\\n, Black, \\n]   \n",
       "Paint Type                                                        [\\nMetallic\\n]   \n",
       "Body Color Original                                            [\\nBlack-Pearl\\n]   \n",
       "Upholstery                                                                   NaN   \n",
       "Body                                                               [\\n, Van, \\n]   \n",
       "Nr. of Doors                                                             [\\n5\\n]   \n",
       "Nr. of Seats                                                             [\\n5\\n]   \n",
       "Model Code                                                                   NaN   \n",
       "Gearing Type                                                 [\\n, Automatic, \\n]   \n",
       "Displacement                                                      [\\n1,997 cc\\n]   \n",
       "Cylinders                                                                    NaN   \n",
       "Weight                                                            [\\n1,875 kg\\n]   \n",
       "Drive chain                                                                  NaN   \n",
       "Fuel                                                            [\\n, Diesel, \\n]   \n",
       "Consumption                                      [[5.3 l/100 km (comb)], [], []]   \n",
       "CO2 Emission                                           [\\n139 g CO2/km (comb)\\n]   \n",
       "Emission Class                                                               NaN   \n",
       "\\nComfort & Convenience\\n      [Air conditioning, Automatic climate control, ...   \n",
       "\\nEntertainment & Media\\n      [Hands-free equipment, On-board computer, Soun...   \n",
       "\\nExtras\\n                                          [Alloy wheels, Touch screen]   \n",
       "\\nSafety & Security\\n          [ABS, Adaptive headlights, Blind spot monitor,...   \n",
       "description                    [\\nLAGERWAGEN ABVERKAUF !, Mit Renault ALL IN ...   \n",
       "Emission Label                                                               NaN   \n",
       "Gears                                                                    [\\n6\\n]   \n",
       "Country version                                                    [\\nAustria\\n]   \n",
       "Electricity consumption                                                      NaN   \n",
       "Last Service Date                                                            NaN   \n",
       "Other Fuel Types                                                             NaN   \n",
       "Availability                                                                 NaN   \n",
       "Last Timing Belt Service Date                                                NaN   \n",
       "Available from                                                               NaN   \n",
       "\n",
       "                                                                           4319   \n",
       "url                            https://www.autoscout24.com//offers/audi-a3-1-...  \n",
       "make_model                                                               Audi A3  \n",
       "short_description                                                       1.0 TFSI  \n",
       "body_type                                                                 Sedans  \n",
       "price                                                                      17500  \n",
       "vat                                                             Price negotiable  \n",
       "km                                                                     36,000 km  \n",
       "registration                                                             04/2017  \n",
       "prev_owner                                                                  None  \n",
       "kW                                                                           NaN  \n",
       "hp                                                                         85 kW  \n",
       "Type                                                        [, Used, , Gasoline]  \n",
       "Previous Owners                                                              NaN  \n",
       "Next Inspection                                                              NaN  \n",
       "Inspection new                                                               NaN  \n",
       "Warranty                                                                     NaN  \n",
       "Full Service                                                                 NaN  \n",
       "Non-smoking Vehicle                                                          NaN  \n",
       "null                                                                          []  \n",
       "Make                                                                    \\nAudi\\n  \n",
       "Model                                                               [\\n, A3, \\n]  \n",
       "Offer Number                                                                 NaN  \n",
       "First Registration                                                [\\n, 2017, \\n]  \n",
       "Body Color                                                        [\\n, Grey, \\n]  \n",
       "Paint Type                                                                   NaN  \n",
       "Body Color Original                                                          NaN  \n",
       "Upholstery                                                                   NaN  \n",
       "Body                                                            [\\n, Sedans, \\n]  \n",
       "Nr. of Doors                                                             [\\n3\\n]  \n",
       "Nr. of Seats                                                             [\\n5\\n]  \n",
       "Model Code                                                                   NaN  \n",
       "Gearing Type                                                    [\\n, Manual, \\n]  \n",
       "Displacement                                                        [\\n999 cc\\n]  \n",
       "Cylinders                                                                [\\n3\\n]  \n",
       "Weight                                                            [\\n1,225 kg\\n]  \n",
       "Drive chain                                                                  NaN  \n",
       "Fuel                                                          [\\n, Gasoline, \\n]  \n",
       "Consumption                    [[4.5 l/100 km (comb)], [5.5 l/100 km (city)],...  \n",
       "CO2 Emission                                           [\\n104 g CO2/km (comb)\\n]  \n",
       "Emission Class                                                      [\\nEuro 6\\n]  \n",
       "\\nComfort & Convenience\\n      [Air conditioning, Armrest, Automatic climate ...  \n",
       "\\nEntertainment & Media\\n      [Bluetooth, CD player, Hands-free equipment, M...  \n",
       "\\nExtras\\n                            [Alloy wheels, Sport seats, Voice Control]  \n",
       "\\nSafety & Security\\n          [ABS, Adaptive headlights, Alarm system, Centr...  \n",
       "description                    [\\nVéhicule Audi A3 de mi 2017 36000km ( evolu...  \n",
       "Emission Label                                                               NaN  \n",
       "Gears                                                                    [\\n6\\n]  \n",
       "Country version                                                              NaN  \n",
       "Electricity consumption                                                      NaN  \n",
       "Last Service Date                                                            NaN  \n",
       "Other Fuel Types                                                             NaN  \n",
       "Availability                                                                 NaN  \n",
       "Last Timing Belt Service Date                                                NaN  \n",
       "Available from                                                               NaN  "
      ]
     },
     "execution_count": 6,
     "metadata": {},
     "output_type": "execute_result"
    }
   ],
   "source": [
    "df.sample(4).T"
   ]
  },
  {
   "cell_type": "code",
   "execution_count": 7,
   "metadata": {},
   "outputs": [
    {
     "data": {
      "text/plain": [
       "url                               0.000\n",
       "make_model                        0.000\n",
       "short_description                 0.289\n",
       "body_type                         0.377\n",
       "price                             0.000\n",
       "vat                              28.350\n",
       "km                                0.000\n",
       "registration                      0.000\n",
       "prev_owner                       42.892\n",
       "kW                              100.000\n",
       "hp                                0.000\n",
       "Type                              0.013\n",
       "Previous Owners                  41.711\n",
       "Next Inspection                  77.794\n",
       "Inspection new                   75.300\n",
       "Warranty                         34.047\n",
       "Full Service                     48.395\n",
       "Non-smoking Vehicle              54.916\n",
       "null                              0.000\n",
       "Make                              0.000\n",
       "Model                             0.000\n",
       "Offer Number                     19.945\n",
       "First Registration               10.032\n",
       "Body Color                        3.750\n",
       "Paint Type                       36.259\n",
       "Body Color Original              23.613\n",
       "Upholstery                       23.368\n",
       "Body                              0.377\n",
       "Nr. of Doors                      1.332\n",
       "Nr. of Seats                      6.137\n",
       "Model Code                       68.729\n",
       "Gearing Type                      0.000\n",
       "Displacement                      3.116\n",
       "Cylinders                        35.681\n",
       "Weight                           43.809\n",
       "Drive chain                      43.081\n",
       "Fuel                              0.000\n",
       "Consumption                      11.973\n",
       "CO2 Emission                     11.357\n",
       "Emission Class                   18.977\n",
       "\\nComfort & Convenience\\n         5.779\n",
       "\\nEntertainment & Media\\n         8.631\n",
       "\\nExtras\\n                       18.607\n",
       "\\nSafety & Security\\n             6.169\n",
       "description                       0.000\n",
       "Emission Label                   74.967\n",
       "Gears                            29.600\n",
       "Country version                  52.346\n",
       "Electricity consumption          99.139\n",
       "Last Service Date                96.445\n",
       "Other Fuel Types                 94.472\n",
       "Availability                     96.011\n",
       "Last Timing Belt Service Date    99.899\n",
       "Available from                   98.291\n",
       "dtype: float64"
      ]
     },
     "execution_count": 7,
     "metadata": {},
     "output_type": "execute_result"
    }
   ],
   "source": [
    "df.isnull().sum() / df.shape[0] * 100"
   ]
  },
  {
   "cell_type": "code",
   "execution_count": 8,
   "metadata": {},
   "outputs": [],
   "source": [
    "def check_df(col):\n",
    "    print('column name : ', col)\n",
    "    print('--------------------------------')\n",
    "    print('Per_of_Nulls   : ', '%', round(df[col].isnull().sum() / df.shape[0]*100, 2))\n",
    "    print('Num_of_Nulls   : ', df[col].isnull().sum())\n",
    "    print(df[col].value_counts(dropna = False))\n",
    "    print(\"*\"*30)\n",
    "    print(\"\\n\\n\")"
   ]
  },
  {
   "cell_type": "code",
   "execution_count": 9,
   "metadata": {},
   "outputs": [
    {
     "name": "stdout",
     "output_type": "stream",
     "text": [
      "column name :  url\n",
      "--------------------------------\n",
      "Per_of_Nulls   :  % 0.0\n",
      "Num_of_Nulls   :  0\n",
      "https://www.autoscout24.com//offers/audi-a1-sportback-1-4-tdi-s-tronic-xenon-navi-klima-diesel-black-bdab349a-caa5-41b0-98eb-c1345b84445e                  1\n",
      "https://www.autoscout24.com//offers/opel-insignia-bus-inno-2-0-cdti-aut-navi-bi-xe-led-e6-diesel-black-8710b253-dd98-4ed0-9d46-cbad2d79532b                1\n",
      "https://www.autoscout24.com//offers/opel-insignia-sport-tourer-opel-sport-tourer-1-6-cdti-136-ch-a-c-diesel-silver-10b7463b-9f56-4348-af35-df3432b2b585    1\n",
      "https://www.autoscout24.com//offers/opel-insignia-2-0cdti-st-business-innovation-navi-bt-diesel-black-ba5a3368-dedc-4e51-9127-3976b26e93c2                 1\n",
      "https://www.autoscout24.com//offers/opel-insignia-sport-tourer-opel-sport-tourer-1-6-cdti-136-ch-a-c-diesel-silver-7b52f054-78d3-4d5e-9370-8a7d081d7edd    1\n",
      "                                                                                                                                                          ..\n",
      "https://www.autoscout24.com//offers/audi-a3-sb-30-1-6-tdi-business-116cv-s-tronic-diesel-black-cf50f7b1-4d7b-466f-93a2-4e11ec0b4107                        1\n",
      "https://www.autoscout24.com//offers/audi-a3-sb-30-1-6-tdi-business-116cv-s-tronic-diesel-grey-3f47eb34-15c4-4763-860d-78fcbbd2c9ff                         1\n",
      "https://www.autoscout24.com//offers/audi-a3-sb-30-1-6-tdi-business-116cv-s-tronic-diesel-silver-f7a4bc95-b2ef-4bac-9497-6bcbcd05db0b                       1\n",
      "https://www.autoscout24.com//offers/audi-a3-sb-30-1-6-tdi-business-116cv-s-tronic-diesel-silver-1c94c7a2-67b5-49ca-ae42-42a6800fb3f5                       1\n",
      "https://www.autoscout24.com//offers/renault-espace-initiale-paris-tce-225-edc-gpf-navi-shz-aux-gasoline-grey-0bd690d9-7e93-4cab-bc5a-9d5b63402481          1\n",
      "Name: url, Length: 15919, dtype: int64\n",
      "******************************\n",
      "\n",
      "\n",
      "\n",
      "column name :  make_model\n",
      "--------------------------------\n",
      "Per_of_Nulls   :  % 0.0\n",
      "Num_of_Nulls   :  0\n",
      "Audi A3           3097\n",
      "Audi A1           2614\n",
      "Opel Insignia     2598\n",
      "Opel Astra        2526\n",
      "Opel Corsa        2219\n",
      "Renault Clio      1839\n",
      "Renault Espace     991\n",
      "Renault Duster      34\n",
      "Audi A2              1\n",
      "Name: make_model, dtype: int64\n",
      "******************************\n",
      "\n",
      "\n",
      "\n",
      "column name :  short_description\n",
      "--------------------------------\n",
      "Per_of_Nulls   :  % 0.29\n",
      "Num_of_Nulls   :  46\n",
      "SPB 1.6 TDI 116 CV S tronic Sport                 64\n",
      "None                                              46\n",
      "1.4 66kW (90CV) Selective                         40\n",
      "MOVE KLIMA CD USB ALLWETTER BLUETOOTH             38\n",
      "SPB 30 TDI S tronic Business                      35\n",
      "                                                  ..\n",
      "K Sports Tourer Business **Navi*Voll**             1\n",
      "1.0 Turbo ecoFLEX Automatic Elective Park Navi     1\n",
      "1.6 CDTI Business *Navi*Automatik*Spurh.*          1\n",
      "1.6 136 CV Automatica Navi E 6 Garanzia Full       1\n",
      "TCe 225 EDC GPF LIM Deluxe Pano,RFK                1\n",
      "Name: short_description, Length: 10002, dtype: int64\n",
      "******************************\n",
      "\n",
      "\n",
      "\n",
      "column name :  body_type\n",
      "--------------------------------\n",
      "Per_of_Nulls   :  % 0.38\n",
      "Num_of_Nulls   :  60\n",
      "Sedans           7903\n",
      "Station wagon    3553\n",
      "Compact          3153\n",
      "Van               783\n",
      "Other             290\n",
      "Transporter        88\n",
      "None               60\n",
      "Off-Road           56\n",
      "Coupe              25\n",
      "Convertible         8\n",
      "Name: body_type, dtype: int64\n",
      "******************************\n",
      "\n",
      "\n",
      "\n",
      "column name :  price\n",
      "--------------------------------\n",
      "Per_of_Nulls   :  % 0.0\n",
      "Num_of_Nulls   :  0\n",
      "14990    154\n",
      "15990    151\n",
      "10990    139\n",
      "15900    106\n",
      "17990    102\n",
      "        ... \n",
      "17559      1\n",
      "17560      1\n",
      "17570      1\n",
      "17575      1\n",
      "39875      1\n",
      "Name: price, Length: 2956, dtype: int64\n",
      "******************************\n",
      "\n",
      "\n",
      "\n",
      "column name :  vat\n",
      "--------------------------------\n",
      "Per_of_Nulls   :  % 28.35\n",
      "Num_of_Nulls   :  4513\n",
      "VAT deductible      10980\n",
      "None                 4513\n",
      "Price negotiable      426\n",
      "Name: vat, dtype: int64\n",
      "******************************\n",
      "\n",
      "\n",
      "\n",
      "column name :  km\n",
      "--------------------------------\n",
      "Per_of_Nulls   :  % 0.0\n",
      "Num_of_Nulls   :  0\n",
      "10 km        1045\n",
      "- km         1024\n",
      "1 km          367\n",
      "5 km          170\n",
      "50 km         148\n",
      "             ... \n",
      "67,469 km       1\n",
      "43,197 km       1\n",
      "10,027 km       1\n",
      "35,882 km       1\n",
      "57 km           1\n",
      "Name: km, Length: 6690, dtype: int64\n",
      "******************************\n",
      "\n",
      "\n",
      "\n",
      "column name :  registration\n",
      "--------------------------------\n",
      "Per_of_Nulls   :  % 0.0\n",
      "Num_of_Nulls   :  0\n",
      "-/-        1597\n",
      "03/2018     695\n",
      "02/2019     585\n",
      "05/2018     572\n",
      "03/2019     543\n",
      "01/2019     541\n",
      "04/2018     541\n",
      "02/2018     539\n",
      "03/2016     536\n",
      "04/2016     532\n",
      "06/2018     532\n",
      "01/2018     511\n",
      "04/2019     506\n",
      "02/2016     472\n",
      "03/2017     471\n",
      "05/2016     459\n",
      "06/2016     452\n",
      "05/2019     440\n",
      "06/2017     409\n",
      "05/2017     404\n",
      "07/2018     396\n",
      "04/2017     380\n",
      "01/2016     376\n",
      "02/2017     368\n",
      "01/2017     306\n",
      "08/2018     285\n",
      "06/2019     224\n",
      "07/2017     215\n",
      "11/2017     180\n",
      "07/2016     176\n",
      "10/2016     160\n",
      "10/2017     154\n",
      "09/2017     149\n",
      "11/2016     142\n",
      "09/2018     141\n",
      "09/2016     141\n",
      "12/2016     134\n",
      "12/2017     123\n",
      "08/2017     114\n",
      "11/2018     110\n",
      "12/2018     103\n",
      "10/2018      97\n",
      "08/2016      94\n",
      "07/2019       6\n",
      "09/2019       5\n",
      "08/2019       1\n",
      "11/2019       1\n",
      "12/2019       1\n",
      "Name: registration, dtype: int64\n",
      "******************************\n",
      "\n",
      "\n",
      "\n",
      "column name :  prev_owner\n",
      "--------------------------------\n",
      "Per_of_Nulls   :  % 42.89\n",
      "Num_of_Nulls   :  6828\n",
      "1 previous owner     8294\n",
      "None                 6828\n",
      "2 previous owners     778\n",
      "3 previous owners      17\n",
      "4 previous owners       2\n",
      "Name: prev_owner, dtype: int64\n",
      "******************************\n",
      "\n",
      "\n",
      "\n",
      "column name :  kW\n",
      "--------------------------------\n",
      "Per_of_Nulls   :  % 100.0\n",
      "Num_of_Nulls   :  15919\n",
      "NaN    15919\n",
      "Name: kW, dtype: int64\n",
      "******************************\n",
      "\n",
      "\n",
      "\n",
      "column name :  hp\n",
      "--------------------------------\n",
      "Per_of_Nulls   :  % 0.0\n",
      "Num_of_Nulls   :  0\n",
      "85 kW     2542\n",
      "66 kW     2122\n",
      "81 kW     1402\n",
      "100 kW    1308\n",
      "110 kW    1112\n",
      "          ... \n",
      "84 kW        1\n",
      "195 kW       1\n",
      "44 kW        1\n",
      "239 kW       1\n",
      "9 kW         1\n",
      "Name: hp, Length: 81, dtype: int64\n",
      "******************************\n",
      "\n",
      "\n",
      "\n",
      "column name :  Type\n",
      "--------------------------------\n",
      "Per_of_Nulls   :  % 0.01\n",
      "Num_of_Nulls   :  2\n",
      "[, Used, , Diesel (Particulate Filter)]                                                                                 3475\n",
      "[, Used, , Diesel]                                                                                                      2516\n",
      "[, Used, , Gasoline]                                                                                                    2367\n",
      "[, Used, , Super 95]                                                                                                    1818\n",
      "[, Pre-registered, , Super 95]                                                                                           500\n",
      "                                                                                                                        ... \n",
      "[, New, , Regular/Benzine 91 / Super 95 / Super Plus 98 / Regular/Benzine E10 91 / Super Plus E10 98 / Super E10 95]       1\n",
      "[, Used, , Super 95 / Super Plus 98 / Super E10 95 / Super Plus E10 98 (Particulate Filter)]                               1\n",
      "[, Demonstration, , Super Plus 98]                                                                                         1\n",
      "[, New, , Super Plus E10 98]                                                                                               1\n",
      "[, Demonstration, , Regular/Benzine E10 91]                                                                                1\n",
      "Name: Type, Length: 170, dtype: int64\n",
      "******************************\n",
      "\n",
      "\n",
      "\n",
      "column name :  Previous Owners\n",
      "--------------------------------\n",
      "Per_of_Nulls   :  % 41.71\n",
      "Num_of_Nulls   :  6640\n",
      "\\n1\\n                                                                                        8101\n",
      "NaN                                                                                          6640\n",
      "\\n2\\n                                                                                         766\n",
      "\\n0\\n                                                                                         163\n",
      "\\n3\\n                                                                                          17\n",
      "                                                                                             ... \n",
      "[\\n1\\n, \\n111 g CO2/km (comb)\\n]                                                                1\n",
      "[\\n1\\n, \\nEuro 6\\n]                                                                             1\n",
      "[\\n2\\n, \\n119 g CO2/km (comb)\\n]                                                                1\n",
      "[\\n1\\n, \\n, 6.6 l/100 km (comb), \\n, 8.1 l/100 km (city), \\n, 5.7 l/100 km (country), \\n]       1\n",
      "[\\n2\\n, \\n137 g CO2/km (comb)\\n]                                                                1\n",
      "Name: Previous Owners, Length: 103, dtype: int64\n",
      "******************************\n",
      "\n",
      "\n",
      "\n",
      "column name :  Next Inspection\n",
      "--------------------------------\n",
      "Per_of_Nulls   :  % 77.79\n",
      "Num_of_Nulls   :  12384\n",
      "NaN                                       12384\n",
      "\\n04/2022\\n                                  62\n",
      "\\n03/2021\\n                                  38\n",
      "\\n03/2022\\n                                  36\n",
      "\\n06/2021\\n                                  34\n",
      "                                          ...  \n",
      "[\\n12/2018\\n, \\n97 g CO2/km (comb)\\n]         1\n",
      "[\\n03/2022\\n, \\n1 (No sticker)\\n]             1\n",
      "[\\n05/2021\\n, \\n93 g CO2/km (comb)\\n]         1\n",
      "[\\n06/2021\\n, \\n93 g CO2/km (comb)\\n]         1\n",
      "[\\n01/2022\\n, \\n168 g CO2/km (comb)\\n]        1\n",
      "Name: Next Inspection, Length: 1400, dtype: int64\n",
      "******************************\n",
      "\n",
      "\n",
      "\n",
      "column name :  Inspection new\n",
      "--------------------------------\n",
      "Per_of_Nulls   :  % 75.3\n",
      "Num_of_Nulls   :  11987\n",
      "NaN                                                                                            11987\n",
      "[\\nYes\\n, \\nEuro 6\\n]                                                                            523\n",
      "\\nYes\\n                                                                                          362\n",
      "[\\nYes\\n, \\n102 g CO2/km (comb)\\n]                                                               174\n",
      "[\\nYes\\n, \\n4 (Green)\\n]                                                                         166\n",
      "                                                                                               ...  \n",
      "[\\nYes\\n, \\n, 6 l/100 km (comb), \\n, 8 l/100 km (city), \\n, 4.9 l/100 km (country), \\n]            1\n",
      "[\\nYes\\n, \\n, 6.8 l/100 km (comb), \\n, 8.5 l/100 km (city), \\n, 6.1 l/100 km (country), \\n]        1\n",
      "[\\nYes\\n, \\n, 4.1 l/100 km (comb), \\n, 7.5 l/100 km (city), \\n, 5.2 l/100 km (country), \\n]        1\n",
      "[\\nYes\\n, \\n, 5.2 l/100 km (comb), \\n, 6.8 l/100 km (city), \\n, 4.3 l/100 km (country), \\n]        1\n",
      "[\\nYes\\n, \\n172 g CO2/km (comb)\\n]                                                                 1\n",
      "Name: Inspection new, Length: 203, dtype: int64\n",
      "******************************\n",
      "\n",
      "\n",
      "\n",
      "column name :  Warranty\n",
      "--------------------------------\n",
      "Per_of_Nulls   :  % 34.05\n",
      "Num_of_Nulls   :  5420\n",
      "NaN                                                                                                5420\n",
      "[\\n, \\n, \\nEuro 6\\n]                                                                               1868\n",
      "\\n12 months\\n                                                                                      1177\n",
      "\\n                                                                                                  979\n",
      "\\n24 months\\n                                                                                       566\n",
      "                                                                                                   ... \n",
      "[\\n72 months\\n, \\n125 g CO2/km (comb)\\n]                                                              1\n",
      "[\\n60 months\\n, \\n14 g CO2/km (comb)\\n]                                                               1\n",
      "[\\n24 months\\n, \\n121 g CO2/km (comb)\\n]                                                              1\n",
      "[\\n12 months\\n, \\nEuro 6d\\n]                                                                          1\n",
      "[\\n36 months\\n, \\n, 7.4 l/100 km (comb), \\n, 9.6 l/100 km (city), \\n, 6 l/100 km (country), \\n]       1\n",
      "Name: Warranty, Length: 516, dtype: int64\n",
      "******************************\n",
      "\n",
      "\n",
      "\n",
      "column name :  Full Service\n",
      "--------------------------------\n",
      "Per_of_Nulls   :  % 48.39\n",
      "Num_of_Nulls   :  7704\n",
      "NaN                                                                                           7704\n",
      "[\\n, \\n, \\n4 (Green)\\n]                                                                       2235\n",
      "[\\n, \\n, \\nEuro 6\\n]                                                                          2097\n",
      "[\\n, \\n]                                                                                      1702\n",
      "[\\n, \\n, \\nEuro 6d-TEMP\\n]                                                                     399\n",
      "                                                                                              ... \n",
      "[\\n, \\n, \\n80 g CO2/km (comb)\\n]                                                                 1\n",
      "[\\n, \\n, \\n84 g CO2/km (comb)\\n]                                                                 1\n",
      "[\\n, \\n, \\n, 6 l/100 km (comb), \\n, 8 l/100 km (city), \\n, 4.9 l/100 km (country), \\n]           1\n",
      "[\\n, \\n, \\n, 4.9 l/100 km (comb), \\n, 6.2 l/100 km (city), \\n, 4.1 l/100 km (country), \\n]       1\n",
      "[\\n, \\n, \\nEuro 4\\n]                                                                             1\n",
      "Name: Full Service, Length: 123, dtype: int64\n",
      "******************************\n",
      "\n",
      "\n",
      "\n",
      "column name :  Non-smoking Vehicle\n",
      "--------------------------------\n",
      "Per_of_Nulls   :  % 54.92\n",
      "Num_of_Nulls   :  8742\n",
      "NaN                                                                                           8742\n",
      "[\\n, \\n]                                                                                      3647\n",
      "[\\n, \\n, \\n4 (Green)\\n]                                                                       1240\n",
      "[\\n, \\n, \\nEuro 6\\n]                                                                          1127\n",
      "[\\n, \\n, \\nEuro 6d-TEMP\\n]                                                                     345\n",
      "                                                                                              ... \n",
      "[\\n, \\n, \\n, 5.6 l/100 km (comb), \\n, 7.3 l/100 km (city), \\n, 4.7 l/100 km (country), \\n]       1\n",
      "[\\n, \\n, \\n122 g CO2/km (comb)\\n]                                                                1\n",
      "[\\n, \\n, \\n158 g CO2/km (comb)\\n]                                                                1\n",
      "[\\n, \\n, \\n150 g CO2/km (comb)\\n]                                                                1\n",
      "[\\n, \\n, \\n175 g CO2/km (comb)\\n]                                                                1\n",
      "Name: Non-smoking Vehicle, Length: 95, dtype: int64\n",
      "******************************\n",
      "\n",
      "\n",
      "\n",
      "column name :  null\n",
      "--------------------------------\n",
      "Per_of_Nulls   :  % 0.0\n",
      "Num_of_Nulls   :  0\n",
      "[]    15919\n",
      "Name: null, dtype: int64\n",
      "******************************\n",
      "\n",
      "\n",
      "\n",
      "column name :  Make\n",
      "--------------------------------\n",
      "Per_of_Nulls   :  % 0.0\n",
      "Num_of_Nulls   :  0\n",
      "\\nOpel\\n       7343\n",
      "\\nAudi\\n       5712\n",
      "\\nRenault\\n    2864\n",
      "Name: Make, dtype: int64\n",
      "******************************\n",
      "\n",
      "\n",
      "\n",
      "column name :  Model\n",
      "--------------------------------\n",
      "Per_of_Nulls   :  % 0.0\n",
      "Num_of_Nulls   :  0\n",
      "[\\n, A3, \\n]          3097\n",
      "[\\n, A1, \\n]          2614\n",
      "[\\n, Insignia, \\n]    2598\n",
      "[\\n, Astra, \\n]       2526\n",
      "[\\n, Corsa, \\n]       2219\n",
      "[\\n, Clio, \\n]        1839\n",
      "[\\n, Espace, \\n]       991\n",
      "[\\n, Duster, \\n]        34\n",
      "[\\n, A2, \\n]             1\n",
      "Name: Model, dtype: int64\n",
      "******************************\n",
      "\n",
      "\n",
      "\n",
      "column name :  Offer Number\n",
      "--------------------------------\n",
      "Per_of_Nulls   :  % 19.94\n",
      "Num_of_Nulls   :  3175\n",
      "NaN                                               3175\n",
      "[\\nLT67679\\n]                                       27\n",
      "[\\nUN89904\\n]                                       27\n",
      "[\\nXJ38068\\n]                                       27\n",
      "[\\nJV03654\\n]                                       27\n",
      "                                                  ... \n",
      "[\\n160_dcbb6c3e-a6da-43a3-8754-ccd994cec93b\\n]       1\n",
      "[\\n6701576\\n]                                        1\n",
      "[\\n6701569\\n]                                        1\n",
      "[\\n158121\\n]                                         1\n",
      "[\\nRe_30000008029\\n]                                 1\n",
      "Name: Offer Number, Length: 11441, dtype: int64\n",
      "******************************\n",
      "\n",
      "\n",
      "\n",
      "column name :  First Registration\n",
      "--------------------------------\n",
      "Per_of_Nulls   :  % 10.03\n",
      "Num_of_Nulls   :  1597\n",
      "[\\n, 2018, \\n]    4522\n",
      "[\\n, 2016, \\n]    3674\n",
      "[\\n, 2017, \\n]    3273\n",
      "[\\n, 2019, \\n]    2853\n",
      "NaN               1597\n",
      "Name: First Registration, dtype: int64\n",
      "******************************\n",
      "\n",
      "\n",
      "\n",
      "column name :  Body Color\n",
      "--------------------------------\n",
      "Per_of_Nulls   :  % 3.75\n",
      "Num_of_Nulls   :  597\n",
      "[\\n, Black, \\n]     3745\n",
      "[\\n, Grey, \\n]      3505\n",
      "[\\n, White, \\n]     3406\n",
      "[\\n, Silver, \\n]    1647\n",
      "[\\n, Blue, \\n]      1431\n",
      "[\\n, Red, \\n]        957\n",
      "NaN                  597\n",
      "[\\n, Brown, \\n]      289\n",
      "[\\n, Green, \\n]      154\n",
      "[\\n, Beige, \\n]      108\n",
      "[\\n, Yellow, \\n]      51\n",
      "[\\n, Violet, \\n]      18\n",
      "[\\n, Bronze, \\n]       6\n",
      "[\\n, Orange, \\n]       3\n",
      "[\\n, Gold, \\n]         2\n",
      "Name: Body Color, dtype: int64\n",
      "******************************\n",
      "\n",
      "\n",
      "\n",
      "column name :  Paint Type\n",
      "--------------------------------\n",
      "Per_of_Nulls   :  % 36.26\n",
      "Num_of_Nulls   :  5772\n",
      "[\\nMetallic\\n]       9794\n",
      "NaN                  5772\n",
      "[\\nUni/basic\\n]       347\n",
      "[\\nPerl effect\\n]       6\n",
      "Name: Paint Type, dtype: int64\n",
      "******************************\n",
      "\n",
      "\n",
      "\n",
      "column name :  Body Color Original\n",
      "--------------------------------\n",
      "Per_of_Nulls   :  % 23.61\n",
      "Num_of_Nulls   :  3759\n",
      "NaN                                    3759\n",
      "[\\nOnyx Schwarz\\n]                      338\n",
      "[\\nBianco\\n]                            282\n",
      "[\\nMythosschwarz Metallic\\n]            238\n",
      "[\\nBrillantschwarz\\n]                   216\n",
      "                                       ... \n",
      "[\\nRouge-Braun (G0Y)\\n]                   1\n",
      "[\\nVARI COLRI DISPONIBILI\\n]              1\n",
      "[\\nKokosnussbraun Metallic\\n]             1\n",
      "[\\nFarbe frei wählbar\\n]                  1\n",
      "[\\nPerlmutt-Weiß Metallic (Weiß)\\n]       1\n",
      "Name: Body Color Original, Length: 1928, dtype: int64\n",
      "******************************\n",
      "\n",
      "\n",
      "\n",
      "column name :  Upholstery\n",
      "--------------------------------\n",
      "Per_of_Nulls   :  % 23.37\n",
      "Num_of_Nulls   :  3720\n",
      "[\\nCloth, Black\\n]           5821\n",
      "NaN                          3720\n",
      "[\\nPart leather, Black\\n]    1121\n",
      "[\\nCloth\\n]                  1005\n",
      "[\\nCloth, Grey\\n]             891\n",
      "[\\nCloth, Other\\n]            639\n",
      "[\\nFull leather, Black\\n]     575\n",
      "[\\nBlack\\n]                   491\n",
      "[\\nGrey\\n]                    273\n",
      "[\\nOther, Other\\n]            182\n",
      "[\\nPart leather\\n]            140\n",
      "[\\nFull leather\\n]            139\n",
      "[\\nFull leather, Brown\\n]     116\n",
      "[\\nPart leather, Grey\\n]      116\n",
      "[\\nOther, Black\\n]            110\n",
      "[\\nFull leather, Other\\n]      72\n",
      "[\\nFull leather, Grey\\n]       67\n",
      "[\\nPart leather, Other\\n]      65\n",
      "[\\nOther\\n]                    56\n",
      "[\\nPart leather, Brown\\n]      50\n",
      "[\\nalcantara, Black\\n]         47\n",
      "[\\nVelour, Black\\n]            36\n",
      "[\\nFull leather, Beige\\n]      36\n",
      "[\\nCloth, Brown\\n]             28\n",
      "[\\nVelour\\n]                   16\n",
      "[\\nOther, Grey\\n]              15\n",
      "[\\nCloth, Beige\\n]             13\n",
      "[\\nBrown\\n]                    12\n",
      "[\\nCloth, Blue\\n]              12\n",
      "[\\nVelour, Grey\\n]              8\n",
      "[\\nCloth, White\\n]              8\n",
      "[\\nalcantara, Grey\\n]           6\n",
      "[\\nCloth, Red\\n]                5\n",
      "[\\nOther, Yellow\\n]             4\n",
      "[\\nPart leather, Red\\n]         3\n",
      "[\\nBeige\\n]                     3\n",
      "[\\nPart leather, White\\n]       2\n",
      "[\\nFull leather, Blue\\n]        2\n",
      "[\\nalcantara, Other\\n]          2\n",
      "[\\nalcantara\\n]                 2\n",
      "[\\nWhite\\n]                     2\n",
      "[\\nPart leather, Beige\\n]       2\n",
      "[\\nBlue\\n]                      2\n",
      "[\\nCloth, Orange\\n]             1\n",
      "[\\nFull leather, Red\\n]         1\n",
      "[\\nOther, Brown\\n]              1\n",
      "[\\nFull leather, White\\n]       1\n",
      "Name: Upholstery, dtype: int64\n",
      "******************************\n",
      "\n",
      "\n",
      "\n",
      "column name :  Body\n",
      "--------------------------------\n",
      "Per_of_Nulls   :  % 0.38\n",
      "Num_of_Nulls   :  60\n",
      "[\\n, Sedans, \\n]           7903\n",
      "[\\n, Station wagon, \\n]    3553\n",
      "[\\n, Compact, \\n]          3153\n",
      "[\\n, Van, \\n]               783\n",
      "[\\n, Other, \\n]             290\n",
      "[\\n, Transporter, \\n]        88\n",
      "NaN                          60\n",
      "[\\n, Off-Road, \\n]           56\n",
      "[\\n, Coupe, \\n]              25\n",
      "[\\n, Convertible, \\n]         8\n",
      "Name: Body, dtype: int64\n",
      "******************************\n",
      "\n",
      "\n",
      "\n",
      "column name :  Nr. of Doors\n",
      "--------------------------------\n",
      "Per_of_Nulls   :  % 1.33\n",
      "Num_of_Nulls   :  212\n",
      "[\\n5\\n]    11575\n",
      "[\\n4\\n]     3079\n",
      "[\\n3\\n]      832\n",
      "[\\n2\\n]      219\n",
      "NaN          212\n",
      "[\\n1\\n]        1\n",
      "[\\n7\\n]        1\n",
      "Name: Nr. of Doors, dtype: int64\n",
      "******************************\n",
      "\n",
      "\n",
      "\n",
      "column name :  Nr. of Seats\n",
      "--------------------------------\n",
      "Per_of_Nulls   :  % 6.14\n",
      "Num_of_Nulls   :  977\n",
      "[\\n5\\n]    13336\n",
      "[\\n4\\n]     1125\n",
      "NaN          977\n",
      "[\\n7\\n]      362\n",
      "[\\n2\\n]      116\n",
      "[\\n6\\n]        2\n",
      "[\\n3\\n]        1\n",
      "Name: Nr. of Seats, dtype: int64\n",
      "******************************\n",
      "\n",
      "\n",
      "\n",
      "column name :  Model Code\n",
      "--------------------------------\n",
      "Per_of_Nulls   :  % 68.73\n",
      "Num_of_Nulls   :  10941\n",
      "NaN               10941\n",
      "[\\n0035/BCB\\n]      268\n",
      "[\\n0588/BNO\\n]      245\n",
      "[\\n0588/BDB\\n]      206\n",
      "[\\n0588/BHX\\n]      188\n",
      "                  ...  \n",
      "[\\n0035/AVN\\n]        1\n",
      "[\\n0035/BEM\\n]        1\n",
      "[\\n0035/BAG\\n]        1\n",
      "[\\n0035/BAA\\n]        1\n",
      "[\\n3333/BKG\\n]        1\n",
      "Name: Model Code, Length: 233, dtype: int64\n",
      "******************************\n",
      "\n",
      "\n",
      "\n",
      "column name :  Gearing Type\n",
      "--------------------------------\n",
      "Per_of_Nulls   :  % 0.0\n",
      "Num_of_Nulls   :  0\n",
      "[\\n, Manual, \\n]            8153\n",
      "[\\n, Automatic, \\n]         7297\n",
      "[\\n, Semi-automatic, \\n]     469\n",
      "Name: Gearing Type, dtype: int64\n",
      "******************************\n",
      "\n",
      "\n",
      "\n",
      "column name :  Displacement\n",
      "--------------------------------\n",
      "Per_of_Nulls   :  % 3.12\n",
      "Num_of_Nulls   :  496\n",
      "[\\n1,598 cc\\n]    4761\n",
      "[\\n999 cc\\n]      2438\n",
      "[\\n1,398 cc\\n]    1314\n",
      "[\\n1,399 cc\\n]     749\n",
      "[\\n1,229 cc\\n]     677\n",
      "                  ... \n",
      "[\\n122 cc\\n]         1\n",
      "[\\n1,198 cc\\n]       1\n",
      "[\\n1,195 cc\\n]       1\n",
      "[\\n2,967 cc\\n]       1\n",
      "[\\n1,800 cc\\n]       1\n",
      "Name: Displacement, Length: 78, dtype: int64\n",
      "******************************\n",
      "\n",
      "\n",
      "\n",
      "column name :  Cylinders\n",
      "--------------------------------\n",
      "Per_of_Nulls   :  % 35.68\n",
      "Num_of_Nulls   :  5680\n",
      "[\\n4\\n]    8105\n",
      "NaN        5680\n",
      "[\\n3\\n]    2104\n",
      "[\\n5\\n]      22\n",
      "[\\n6\\n]       3\n",
      "[\\n8\\n]       2\n",
      "[\\n2\\n]       2\n",
      "[\\n1\\n]       1\n",
      "Name: Cylinders, dtype: int64\n",
      "******************************\n",
      "\n",
      "\n",
      "\n",
      "column name :  Weight\n",
      "--------------------------------\n",
      "Per_of_Nulls   :  % 43.81\n",
      "Num_of_Nulls   :  6974\n",
      "NaN               6974\n",
      "[\\n1,163 kg\\n]     574\n",
      "[\\n1,360 kg\\n]     356\n",
      "[\\n1,165 kg\\n]     301\n",
      "[\\n1,335 kg\\n]     242\n",
      "                  ... \n",
      "[\\n1,960 kg\\n]       1\n",
      "[\\n1,258 kg\\n]       1\n",
      "[\\n1,167 kg\\n]       1\n",
      "[\\n1,331 kg\\n]       1\n",
      "[\\n2,037 kg\\n]       1\n",
      "Name: Weight, Length: 435, dtype: int64\n",
      "******************************\n",
      "\n",
      "\n",
      "\n",
      "column name :  Drive chain\n",
      "--------------------------------\n",
      "Per_of_Nulls   :  % 43.08\n",
      "Num_of_Nulls   :  6858\n",
      "[\\nfront\\n]    8886\n",
      "NaN            6858\n",
      "[\\n4WD\\n]       171\n",
      "[\\nrear\\n]        4\n",
      "Name: Drive chain, dtype: int64\n",
      "******************************\n",
      "\n",
      "\n",
      "\n",
      "column name :  Fuel\n",
      "--------------------------------\n",
      "Per_of_Nulls   :  % 0.0\n",
      "Num_of_Nulls   :  0\n",
      "[\\n, Diesel (Particulate Filter), \\n]                                                                                  4315\n",
      "[\\n, Super 95, \\n]                                                                                                     3338\n",
      "[\\n, Gasoline, \\n]                                                                                                     3175\n",
      "[\\n, Diesel, \\n]                                                                                                       2984\n",
      "[\\n, Super 95 / Regular/Benzine 91, \\n]                                                                                 424\n",
      "                                                                                                                       ... \n",
      "[\\n, Regular/Benzine 91 / Super 95 / Regular/Benzine E10 91, \\n]                                                          1\n",
      "[\\n, Super Plus 98 / Super E10 95, \\n]                                                                                    1\n",
      "[\\n, Regular/Benzine 91 / Super 95 / Regular/Benzine E10 91 / Super E10 95 / Super Plus 98 / Super Plus E10 98, \\n]       1\n",
      "[\\n, Regular/Benzine 91 / Super Plus 98 / Regular/Benzine E10 91 / Super 95 / Super E10 95 / Super Plus E10 98, \\n]       1\n",
      "[\\n, Super Plus 98 / Super 95 / Super Plus E10 98, \\n]                                                                    1\n",
      "Name: Fuel, Length: 77, dtype: int64\n",
      "******************************\n",
      "\n",
      "\n",
      "\n",
      "column name :  Consumption\n",
      "--------------------------------\n",
      "Per_of_Nulls   :  % 11.97\n",
      "Num_of_Nulls   :  1906\n",
      "NaN                                                                                   1906\n",
      "[[3.9 l/100 km (comb)], [4.1 l/100 km (city)], [3.7 l/100 km (country)]]               304\n",
      "[[4.2 l/100 km (comb)], [5 l/100 km (city)], [3.7 l/100 km (country)]]                 276\n",
      "[[5.4 l/100 km (comb)], [6.8 l/100 km (city)], [4.5 l/100 km (country)]]               257\n",
      "[[3.8 l/100 km (comb)], [4.3 l/100 km (city)], [3.5 l/100 km (country)]]               253\n",
      "                                                                                      ... \n",
      "[[4.2 l/100 km (comb)], [5.3 l/100 km (city)], [3.6 l/100 km (country)]]                 1\n",
      "[\\n, 5.1 l/100 km (comb), \\n, 6.4 l/100 km (city), \\n, 4.3 l/100 km (country), \\n]       1\n",
      "[[4.6 l/100 km (comb)], [5.4 l/100 km (city)], [6.7 l/100 km (country)]]                 1\n",
      "[\\n, 6.3 l/100 km (comb), \\n, \\n, \\n]                                                    1\n",
      "[\\n, 7.4 l/100 km (comb), \\n, 9.6 l/100 km (city), \\n, 6 l/100 km (country), \\n]         1\n",
      "Name: Consumption, Length: 882, dtype: int64\n",
      "******************************\n",
      "\n",
      "\n",
      "\n",
      "column name :  CO2 Emission\n",
      "--------------------------------\n",
      "Per_of_Nulls   :  % 11.36\n",
      "Num_of_Nulls   :  1808\n",
      "NaN                            1808\n",
      "[\\n120 g CO2/km (comb)\\n]       740\n",
      "[[], [], []]                    628\n",
      "[\\n99 g CO2/km (comb)\\n]        545\n",
      "[\\n97 g CO2/km (comb)\\n]        537\n",
      "                               ... \n",
      "[\\n14 g CO2/km (comb)\\n]          1\n",
      "[\\n1,060 g CO2/km (comb)\\n]       1\n",
      "[\\n51 g CO2/km (comb)\\n]          1\n",
      "[\\n165 g CO2/km (comb)\\n]         1\n",
      "[\\n193 g CO2/km (comb)\\n]         1\n",
      "Name: CO2 Emission, Length: 124, dtype: int64\n",
      "******************************\n",
      "\n",
      "\n",
      "\n",
      "column name :  Emission Class\n",
      "--------------------------------\n",
      "Per_of_Nulls   :  % 18.98\n",
      "Num_of_Nulls   :  3021\n",
      "[\\nEuro 6\\n]          10139\n",
      "NaN                    3021\n",
      "[\\nEuro 6d-TEMP\\n]     1845\n",
      "[[], [], []]            607\n",
      "[\\nEuro 6c\\n]           127\n",
      "[\\nEuro 5\\n]             78\n",
      "[\\nEuro 6d\\n]            62\n",
      "[\\nEuro 4\\n]             40\n",
      "Name: Emission Class, dtype: int64\n",
      "******************************\n",
      "\n",
      "\n",
      "\n",
      "column name :  \n",
      "Comfort & Convenience\n",
      "\n",
      "--------------------------------\n",
      "Per_of_Nulls   :  % 5.78\n",
      "Num_of_Nulls   :  920\n",
      "NaN                                                                                                                                                                                                                                                                                                                                                                                                                                                                                                                          920\n",
      "[Air conditioning, Electrical side mirrors, Hill Holder, Power windows]                                                                                                                                                                                                                                                                                                                                                                                                                                                      216\n",
      "[Air conditioning, Electrical side mirrors, Power windows]                                                                                                                                                                                                                                                                                                                                                                                                                                                                   134\n",
      "[Air conditioning, Power windows]                                                                                                                                                                                                                                                                                                                                                                                                                                                                                            130\n",
      "[Air conditioning, Armrest, Automatic climate control, Cruise control, Electrical side mirrors, Leather steering wheel, Light sensor, Lumbar support, Multi-function steering wheel, Navigation system, Park Distance Control, Parking assist system sensors front, Parking assist system sensors rear, Power windows, Rain sensor, Seat heating, Start-stop system]                                                                                                                                                         105\n",
      "                                                                                                                                                                                                                                                                                                                                                                                                                                                                                                                            ... \n",
      "[Air conditioning, Cruise control, Electrical side mirrors, Hill Holder, Leather steering wheel, Light sensor, Multi-function steering wheel, Navigation system, Park Distance Control, Parking assist system sensors rear, Power windows, Rain sensor, Split rear seats, Start-stop system, Tinted windows]                                                                                                                                                                                                                   1\n",
      "[Air conditioning, Armrest, Automatic climate control, Cruise control, Electrical side mirrors, Heated steering wheel, Hill Holder, Leather steering wheel, Light sensor, Lumbar support, Multi-function steering wheel, Navigation system, Park Distance Control, Parking assist system camera, Parking assist system sensors front, Parking assist system sensors rear, Power windows, Rain sensor, Seat heating, Sunroof]                                                                                                   1\n",
      "[Air conditioning, Armrest, Cruise control, Electrical side mirrors, Heated steering wheel, Hill Holder, Leather steering wheel, Light sensor, Multi-function steering wheel, Park Distance Control, Parking assist system camera, Parking assist system sensors front, Parking assist system sensors rear, Power windows, Rain sensor, Seat heating, Split rear seats, Start-stop system, Tinted windows]                                                                                                                     1\n",
      "[Air conditioning, Automatic climate control, Cruise control, Electrical side mirrors, Leather steering wheel, Light sensor, Multi-function steering wheel, Park Distance Control, Parking assist system sensors front, Parking assist system sensors rear, Power windows, Rain sensor, Seat heating]                                                                                                                                                                                                                          1\n",
      "[Air conditioning, Automatic climate control, Cruise control, Electrically heated windshield, Electrical side mirrors, Electric tailgate, Heads-up display, Heated steering wheel, Hill Holder, Keyless central door lock, Leather steering wheel, Light sensor, Lumbar support, Navigation system, Park Distance Control, Parking assist system camera, Parking assist system self-steering, Parking assist system sensors front, Parking assist system sensors rear, Power windows, Rain sensor, Seat heating, Sunroof]      1\n",
      "Name: \\nComfort & Convenience\\n, Length: 6199, dtype: int64\n",
      "******************************\n",
      "\n",
      "\n",
      "\n",
      "column name :  \n",
      "Entertainment & Media\n",
      "\n",
      "--------------------------------\n",
      "Per_of_Nulls   :  % 8.63\n",
      "Num_of_Nulls   :  1374\n",
      "NaN                                                                                                           1374\n",
      "[Bluetooth, Hands-free equipment, On-board computer, Radio, USB]                                              1282\n",
      "[Bluetooth, Hands-free equipment, MP3, On-board computer, Radio, USB]                                          982\n",
      "[Bluetooth, CD player, Hands-free equipment, MP3, On-board computer, Radio, USB]                               783\n",
      "[On-board computer, Radio]                                                                                     487\n",
      "                                                                                                              ... \n",
      "[Bluetooth, CD player, Digital radio, Hands-free equipment, Radio]                                               1\n",
      "[CD player, Hands-free equipment, MP3, Radio, USB]                                                               1\n",
      "[MP3, Radio, Sound system, USB]                                                                                  1\n",
      "[Bluetooth, MP3, On-board computer, Radio, Television, USB]                                                      1\n",
      "[Bluetooth, CD player, Hands-free equipment, MP3, On-board computer, Radio, Sound system, Television, USB]       1\n",
      "Name: \\nEntertainment & Media\\n, Length: 347, dtype: int64\n",
      "******************************\n",
      "\n",
      "\n",
      "\n",
      "column name :  \n",
      "Extras\n",
      "\n",
      "--------------------------------\n",
      "Per_of_Nulls   :  % 18.61\n",
      "Num_of_Nulls   :  2962\n",
      "[Alloy wheels]                                                                                                     3245\n",
      "NaN                                                                                                                2962\n",
      "[Alloy wheels, Touch screen]                                                                                        697\n",
      "[Alloy wheels, Voice Control]                                                                                       577\n",
      "[Alloy wheels, Touch screen, Voice Control]                                                                         541\n",
      "                                                                                                                   ... \n",
      "[Alloy wheels, Catalytic Converter, Shift paddles, Sport package, Sport seats, Sport suspension, Voice Control]       1\n",
      "[Alloy wheels, Catalytic Converter, Roof rack, Sport package, Sport seats, Trailer hitch]                             1\n",
      "[Alloy wheels, Catalytic Converter, Ski bag, Sport package, Voice Control]                                            1\n",
      "[Catalytic Converter, Roof rack, Sport seats, Sport suspension]                                                       1\n",
      "[Alloy wheels, Shift paddles, Ski bag, Sport seats, Sport suspension, Touch screen, Voice Control]                    1\n",
      "Name: \\nExtras\\n, Length: 660, dtype: int64\n",
      "******************************\n",
      "\n",
      "\n",
      "\n",
      "column name :  \n",
      "Safety & Security\n",
      "\n",
      "--------------------------------\n",
      "Per_of_Nulls   :  % 6.17\n",
      "Num_of_Nulls   :  982\n",
      "NaN                                                                                                                                                                                                                                                                                                                                                                                  982\n",
      "[ABS, Central door lock, Daytime running lights, Driver-side airbag, Electronic stability control, Fog lights, Immobilizer, Isofix, Passenger-side airbag, Power steering, Side airbag, Tire pressure monitoring system, Traction control]                                                                                                                                           538\n",
      "[ABS, Central door lock, Daytime running lights, Driver-side airbag, Electronic stability control, Immobilizer, Isofix, Passenger-side airbag, Power steering, Side airbag, Tire pressure monitoring system, Traction control]                                                                                                                                                       480\n",
      "[ABS, Central door lock, Daytime running lights, Driver-side airbag, Electronic stability control, Immobilizer, Isofix, Passenger-side airbag, Power steering, Side airbag, Tire pressure monitoring system, Traction control, Xenon headlights]                                                                                                                                     275\n",
      "[ABS, Central door lock, Daytime running lights, Driver-side airbag, Electronic stability control, Fog lights, Immobilizer, Isofix, LED Daytime Running Lights, Passenger-side airbag, Power steering, Side airbag, Tire pressure monitoring system, Traction control]                                                                                                               272\n",
      "                                                                                                                                                                                                                                                                                                                                                                                    ... \n",
      "[ABS, Central door lock, Electronic stability control, Immobilizer, Isofix, Passenger-side airbag, Power steering, Side airbag]                                                                                                                                                                                                                                                        1\n",
      "[ABS, Adaptive Cruise Control, Central door lock, Daytime running lights, Driver-side airbag, Electronic stability control, Emergency brake assistant, Immobilizer, Isofix, Passenger-side airbag, Power steering, Side airbag, Tire pressure monitoring system, Traction control]                                                                                                     1\n",
      "[ABS, Adaptive Cruise Control, Alarm system, Central door lock, Driver-side airbag, Electronic stability control, Fog lights, Immobilizer, Isofix, Lane departure warning system, LED Daytime Running Lights, Passenger-side airbag, Power steering, Side airbag, Tire pressure monitoring system, Traction control, Xenon headlights]                                                 1\n",
      "[ABS, Adaptive Cruise Control, Central door lock, Daytime running lights, Driver-side airbag, Electronic stability control, Fog lights, Immobilizer, Isofix, Power steering, Tire pressure monitoring system, Traction control]                                                                                                                                                        1\n",
      "[ABS, Adaptive Cruise Control, Central door lock, Daytime running lights, Driver-side airbag, Electronic stability control, Emergency brake assistant, Fog lights, Immobilizer, Isofix, Lane departure warning system, LED Daytime Running Lights, LED Headlights, Passenger-side airbag, Power steering, Side airbag, Tire pressure monitoring system, Traffic sign recognition]      1\n",
      "Name: \\nSafety & Security\\n, Length: 4444, dtype: int64\n",
      "******************************\n",
      "\n",
      "\n",
      "\n",
      "column name :  description\n",
      "--------------------------------\n",
      "Per_of_Nulls   :  % 0.0\n",
      "Num_of_Nulls   :  0\n",
      "[]                                                                                                                                                                                                                                                                                                                                                                                                                                                                                                                                                                                                                                                                                                                                                                                                                                                                                                                                                                                                                                                                                                                                                                                                                                                                                                                                                                                                                                                                                                                                                                                                                                                                                                                                                                                                                                                                                                                                                                                                                                                                                                                                                                                                                                                                                                                                                                                                                                                                                                                                                                                                                                                                                        636\n",
      "[\\n, \\n]                                                                                                                                                                                                                                                                                                                                                                                                                                                                                                                                                                                                                                                                                                                                                                                                                                                                                                                                                                                                                                                                                                                                                                                                                                                                                                                                                                                                                                                                                                                                                                                                                                                                                                                                                                                                                                                                                                                                                                                                                                                                                                                                                                                                                                                                                                                                                                                                                                                                                                                                                                                                                                                                                   30\n",
      "[\\n, Fahrzeugbeschreibung,  Sichern Sie sich diesen Renault Clio 1.6 TCE Energy Sport Trophy zum Top-Preis inklusive dem , AUTOHERO-RUNDUM-SORGLOS-PAKET,  , Infos:,  1.Hand, deutsche Auslieferung, Unfallfrei, scheckheftgepflegt,  , Highlights,  , Audio-Navigationssystem R-Link Evolution mit Touchscreen und Carminat TomTom,  , Sportsitze ,  , Sportfahrwerk,  , Scheinwerfer Full-LED , Komfort,  , Geschwindigkeits-Regelanlage (Tempomat) ,  , Klimaanlage,  , Einparkhilfe hinten,  , Multifunktionslenkrad (Sport/Leder) mit Schaltwippen/-tasten ,  , Fensterheber elektr. mit Impulsgeber links/rechts vorn,  , Zentralverriegelung / Startanlage Handsfree Entry & Drive ,  , Berganfahr-Assistent (HSA) , Multimedia,  , Audiosystem: Radio R & GO (Bluetooth, DAB-Tuner),  , Bordcomputer,  , Freisprecheinrichtung Bluetooth ,  , USB-Anschluss inkl. AUX-IN-Anschluss (Plug & Music) , Licht und Sicht,  , Außenspiegel elektr. verstell- und heizbar ,  , Licht- und Regensensor ,  , Tagfahrlicht LED ,  , Nebelscheinwerfer LED ,  , Coming-Home-Lichtfunktion ,  , Heckleuchten LED , Sicherheit,  , Isofix-Aufnahmen für Kindersitz ,  , Seitenairbag vorn,  , Wegfahrsperre,  , Differentialsperre,  , Bremsassistent ,  , Elektron. Stabilitäts-Programm (ESP),  , Anti-Blockier-System (ABS),  , Anti-Submarining-Airbag im Fond,  , Airbag Fahrer-/Beifahrerseite ,  , Differentialsperre ,  , Reifendruck-Kontrollsystem ,  , Untersteuerungskontrolle (USC) ,  , Antischlupfregelung (ASR) , Weiteres,  , Start/Stop-Anlage ,  , Servolenkung geschwindigkeitsabhängig,  , R.S. Drive (Fahrmodusschalter) ,  , Gepäckraumabdeckung / Rollo ,  , Heckdiffusor ,  , LM-Felgen ,  , Heckspoiler (Renault Sport) ,  , Pedale Aluminium ,  , Energierückgewinnung (Energy Smart Management) , ...]                                                                                                                                                                                                                                                                                                                                                                                                                                                                                                                                                                                                                                                                                                                                                                                                                                                              27\n",
      "[\\nPosibilidad de prueba del vehículo hasta 5 días. Consultar condiciones. PVP para particulares. Varias unidades y colores disponibles. Precios publicados para vehículos industriales (furgonetas) válidos para compradores autónomos o empresas, consultar condiciones para particulares. Las imágenes y kilómetros pueden no corresponder con el modelo anunciado. Para confirmar póngase en contacto con nuestro departamento comercial. Consulta las excepcionales condiciones de financiación que tenemos disponibles. Precio de venta final IVA y gastos de transferencia incluidos. Horario de atención al cliente: Lunes a Viernes de 09:00 a 18:00.\\n]                                                                                                                                                                                                                                                                                                                                                                                                                                                                                                                                                                                                                                                                                                                                                                                                                                                                                                                                                                                                                                                                                                                                                                                                                                                                                                                                                                                                                                                                                                                                                                                                                                                                                                                                                                                                                                                                                                                                                                                                                          27\n",
      "[\\nSichern Sie sich diesen RENAULT CLIO 1.2 LIMITED zum Top-Preis inklusive dem, AUTOHERO-RUNDUM-SORGLOS-PAKET,  , Infos:,  2.Hand, mindestens 12 Monate gültige HU und AU, deutsche Ausführung, unfallfrei ,  , Highlights,  , Audio-Navigationssystem mit Touchscreen-Farbdisplay, Komfort,  , Klimaanlage ,  , Multifunktionslenkrad in Leder ,  , Berganfahr-Assistent (HSA),  , Fensterheber elektrisch vorn ,  , Geschwindigkeits-Regelanlage (Tempomat) ,  , Heckscheibe heizbar ,  , Sitz vorn links höhenverstellbar,  , Sitz vorn rechts umklappbar ,  , Stau-/Ablagefach im Laderaumboden ,  , Zentralverriegelung mit Fernbedienung , Multimedia,  , Radio R&GO,  , Bluetooth Freisprechanlage ,  , USB-/AUX-Schnittstelle ,  , Bordcomputer,  , Licht und Sicht,  , Tagfahrlicht LED ,  , Außenspiegel elektrisch verstell- und heizbar, Sicherheit,  , Airbag für Fahrer und Beifahrer,  , Beifahrerairbag deaktivierbar ,  , Seitenairbags vorn ,  , Kopfairbagsystem,  , Anti-Blockier-System (ABS),  , Elektronische Bremskraftverteilung ,  , Elektronische Stabilitäts-Programm (ESP) ,  , Reifen-Reparaturkit ,  , Reifendruck-Kontrollsystem ,  , Untersteuerungskontrolle (USC) ,  , ISOFIX Kindersitzverankerung , Weiteres,  , Dachreling silber ,  , Look-Paket Chrom (außen) ,  , Look-Paket Grau (innen) ,  , R&GO-Paket ,  , Style-Paket ,  Ihr , AUTOHERO-RUNDUM-SORGLOS-PAKET,  beinhaltet:, Kostenlose Lieferung in Ihre Nähe, Optische & technische Aufbereitung, Mindestens 12 Monate gültige HU und AU, 1-Jahr-Premium-Garantie, Zulassung inklusive , 14-Tage-Rückgaberecht, Markenunabhängige Inzahlungnahme , Individuelle Finanzierungen zu fairen Konditionen,  , HIER GEHT ES ZUR 360° - ANSICHT DES FAHRZEUGES:, :, https://www.autohero.com/de/renault-clio-1-2-limited/id/30f99516-8785-47e7-a4a3-6cdac4d8e633/,  , Haftungsausschluss, :, Für Angaben vom Verkäufer, des Herstellers oder von Datenbankabfragen übernimmt Autohero keine Haftung. Änderungen, Zwischenverkauf und Irrtümer sind vorbehalten.\\n]                                                                                                                                                                                                                                                                                                                                                                                                                                                                                                                                                                                                                                27\n",
      "                                                                                                                                                                                                                                                                                                                                                                                                                                                                                                                                                                                                                                                                                                                                                                                                                                                                                                                                                                                                                                                                                                                                                                                                                                                                                                                                                                                                                                                                                                                                                                                                                                                                                                                                                                                                                                                                                                                                                                                                                                                                                                                                                                                                                                                                                                                                                                                                                                                                                                                                                                                                                                                                                         ... \n",
      "[\\nPratica 67374, Airbag fullsize per conducente e passeggero, Alzacristalli elettrici ant. e post. con funzione attivaz. a pressione, Assetto dinamico, Audi drive select, Inserti in micrometallic argento, Kit riparazione pneumatici, Pacchetto di navigazione, Piano di copertura del vano bagagli estraibile, Presa AUX-IN, Proiettori allo Xenon Plus con reg. aut. prof. fari, Lavafari, Rivestimenti dei sedili in tessuto, Serbatoio AdBlue, Sistema controllo pressione pneumatici, Sistema di ancoraggio ISOFIX e 3° punto di ancoraggio Top Tether sui sedili post. laterali, Sistema di informazioni per il conducente con display monocromatico, Tappetini anteriori e posteriori, Versione Business, Volante sportivo multifunzionale in pelle 3 razze, ABS, EBV (Ripartitore elettronico della forza frenante), Airbag laterali anteriori integrati negli schienali dei sedili, Airbag per la testa, Airbag per le ginocchia (lato conducente), Appoggiatesta anteriori (2) e posteriori (3) regolabili, Radio MMI plus, Interfaccia Bluetooth, Appoggiabraccia centrale anteriore, Cambio manuale, Cerchi in lega 7 J x 16\" a 5 razze a stella, Chiusura centralizzata con telecomando, Regolatore di velocità, ESC - Sistema elettronico di controllo della stabilizzazione con bloccaggio trasversale elettronico, ASR - Dispositivo di controllo della trazione, EDS (Dispositivo antislittamento in partenza), Filtro anti particolato, Cinture di sicurezza con pretensionatore, Specchietti retrovisivi esterni riscaldabili e ripiegabili elettricamente, Schienale del sedile posteriore ribaltabile (divisibile in rapporto 40:60 o ribaltabile completam.), Sistema di ausilio al parcheggio posteriore, Servosterzo elettromeccanico, Tergilunotto\\n]                                                                                                                                                                                                                                                                                                                                                                                                                                                                                                                                                                                                                                                                                                                                                                                                                                                                                                          1\n",
      "[\\n, Getriebe:,  Schaltgetriebe, Technik:,  Bordcomputer, Start-Stop-Automatik, Assistenten:,  Regensensor, Lichtsensor, Berganfahrassistent, Komfort:,  Servolenkung, Zentralverriegelung, Elektrischer Fensterheber, Sitzheizung, Elektrische Aussenspiegel, Teilbare Ruecksitzlehne, Tempomat, Park Distance Control, Multifunktionslenkrad, Innenspiegel autom. abblendbar, Mittelarmlehne, Innenraumfilter, Lenksaeule einstellbar, Sportsitze, Klimaautomatik-2-Zonen, Sicht:,  Xenon Scheinwerfer, Colorverglasung, Scheinwerferreinigung, Aussenspiegel beheizbar, Privacyverglasung, Sicherheit:,  ABS, Airbag, Beifahrer-Airbag, Wegfahrsperre, Seitenairbags, ESP, Antriebsschlupfregelung, Reifendruckkontrolle, Traktionskontrolle, Kopfairbag, Knieairbag, Kindersitzbefestigung, Pannenkit, Entertainment:,  CD, Radio, AUX-In, USB-Anschluss, MP3, Bluetooth, Freisprecheinrichtung, Umwelt:,  Grüne Umweltplakette, , Energieeffizienzklasse B, Qualität:,  Garantie, Scheckheftgepflegt, HUAU neu, Nichtraucherfahrzeug, Sonstiges:,  Metallic, Alufelgen, Dachreling, Gepaeckraumabdeckung, Stossfaenger in Wagenfarbe, Sportfahrwerk, Weiteres:,  Connectivity-Paket inkl. Bluetooth-Schnittstelle, Klimaautomatik 2-Zonen, Optik-Paket schwarz Audi exclusive, Einparkhilfe (APS), Verglasung hinten abgedunkelt, Sitzheizung vorn, Dachreling (Aluminium), Soundsystem DSP / Audi Sound-System, Ablage- und Gepäckraum-Paket, Audi music interface, Scheibenwaschdüsen heizbar, Vorbereitung Navigationssystem, Adaptives Bremslicht, Anfahr-Assistent (hold assist), Antriebsart: Frontantrieb, Audi Drive Select, Außenspiegel Wagenfarbe, Blinkleuchten LED in Außenspiegel integriert, Bremsanlage mit Rekuperation - Bremsenergierückgewinnung, Bremsassistent, Dachspoiler, Dekoreinlagen Aluminium Mistral, Einstiegsleisten Aluminium, Elektron. Differentialsperre (EDS), Elektron. Stabilitätskontrolle (ESC), Elektron. Stabilitäts-Programm, Euro 6, Fahrer-Informations-System (FIS), Fensterheber elektrisch vorn und hinten, Frontscheibe Akustikglas, Fußmatten Velours, Getriebe 6-Gang, Heckscheibe heizbar, Interieur Aluminium-Optik, Isofix-Aufnahmen für Kindersitz, Kopfstützen hinten, Multi-Media-Interface MMI, Parkbremse elektro-mechanisch, Polster: Stoff Rallye, Servolenkung elektro-mechanisch, Sitze vorn mit ausziehbarer Oberschenkelauflage, Sitzhöhenverstellung, Sport/Lederlenkrad, Sport-Fahrwerk, Start/Stop-Anlage, Telefon-Vorbereitung mit Bluetooth-Schnittstelle, Wagenheber, Wärmeschutzverglasung, Xenon Plus, ZV mit Fernbedienung, ... Änderungen, Zwischenverkauf und Irrtümer vorbehalten.,  by CG360.de\\n]      1\n",
      "[\\n, Getriebe, 6-Gang, Licht und Sicht, Xenon-Scheinwerfer Plus (Abblend- und Fernlicht), Technik und Sicherheit, Fahrerairbag, Airbag Fahrer-/Beifahrerseite, Seitenairbag vorn, Kopfairbags, Anti-Blockier-System (ABS), Elektron. Stabilitätskontrolle (ESC), Elektron. Differentialsperre (EDS), Zentralverriegelung mit Fernbedienung, Schließ-/Startsystem Advanced Key (Komfortschlüssel), Servolenkung elektro-mechanisch, Geschwindigkeits-Regelanlage (Tempomat), Elektronische Wegfahrsperre, Bordcomputer, Reifendruck-Kontrollsystem, Assistenzsysteme, Fahrassistenz-System: Anfahr-Assistent (hold assist), Multimedia, Multi-Media-Interface MMI Basic Plus / MMI Radio Plus, Audi Smartphone Interface, Komfort, Komfort-Klimaautomatik 2-Zonen, Einparkhilfe hinten (APS), Fensterheber elektrisch, Licht- und Regensensor, Außenspiegel elektr. verstellbar beide, Scheibenwaschdüsen und Außenspiegel beheizt, Wärmeschutzverglasung grün getönt, Innenausstattung, Sitzheizung vorn, Lenkrad (Sport/Leder - 3-Speichen) mit Multifunktion, Mittelarmlehne vorn, Rücksitzlehne geteilt/klappbar, Aussenausstattung, LM-Felgen, Pakete, Komfort-Paket, Sonstiges, Rußpartikelfilter, Scheckheftgepflegt, Nichtraucherfahrzeug, Weitere Informationen, Schadstoffklasse: EURO 6D-TEMP, Connectivity-Paket, Glanz-Paket, LM-Felgen 7.5x17 (5-Speichen Y-Design), Progressivlenkung, Antriebs-Schlupfregelung (ASR), Elektron. Stabilitäts-Programm (ESP), Getriebe 6-Gang, Lenkrad (Sport - 3-Speichen), Parkbremse elektro-mechanisch, Sitze vorn höhenverstellbar, Vorrüstung Mobiltelefon/Handy mit Bluetooth-Schnittstelle, Audi music interface, Außenspiegel elektr. verstell- und heizbar beide, Vorbereitung Navigationssystem, Irrtümer und Änderungen vorbehalten., Die im Internet angebotene Ausstattung ist kein Vertragsbestandteil., Die Ausstattung muss vor Ort geprüft werden., Das angebotene Fahrzeug kann von einer Rückrufaktion betroffen sein. Co2 Angaben können abweichen., \\n]                                                                                                                                                                                                                                                                                                                                                                                                                                                                                                                                                                                                                                                                  1\n",
      "[\\n, Aluminium-Gussräder im 5-Speichen-Stern-Design Größe 7 J x 16 mit Reifen 205/55 R 16, Dachreling eloxiert, Einparkhilfe hinten, Fahrerinformationssystem mit Farbdisplay, Lederlenkrad im 3-Speichen-Design mit Multifunktion plus, Ablage-/Gepäckraumpaket mit erweitertem USB-Buchsen-Angebot, Lichtpaket, Reifen 16', Anlaufvariante RdW, Vorbereitung für Anhängevorrichtung, Audi sound system, Reifen 205/55 R16 91W, Xenon plus, Allwetterlicht, Kopfstützen hinten (3 Stück), MMI Radio plus, Zentralverriegelung mit Funkschlüssel, Bluetooth-Schnittstelle, Innenspiegel abblendbar, elektronische Stabilisierungskontrolle (ESC), Airbags, 6-Gang-Schaltgetriebe, Seitenairbags vorn und Kopfairbagsystem, elektromechanische Servolenkung, Leuchtweitenregulierung automatisch-statisch, Scheibenwaschdüsen beheizbar vorn, Reifendruck-Kontrollanzeige, Tagfahrlicht, Start-Stop-System, AUX-IN-Anschluss, Kindersitzverankerung ISOFIX und Top Tether für die äußeren Fondsitze, Sitzbezüge in Stoff Index, Wärmeschutzverglasung, Akustikfrontscheibe, Außenspiegel links asphärisch, Außen-Sound Standard, Außenspiegel rechts (großes Sichtfeld) konvex, elektromechanische Parkbremse, Dachhimmel in Stoff felsgrau, Kraftstoffsystem Otto-Einspritzer, Linkslenker, Reifenreparaturset, Heckleuchten, Scheibenwaschanlage, Entriegelung Hintersitz Standard, Waschwasserstandsanzeige, Abgaskonzept EU6 AG/H/I, Frontantrieb, A3, Außenspiegelgehäuse in Wagenfarbe, Ohne erweitertem Sicherheitssystem, Geschwindigkeitsbegrenzungsanlage, Dachkantenspoiler, Heckscheibenwischer, Sportback, Kindersicherung manuell, Ohne Kamerasysteme/Umfeldsensorik, 4-Zyl. Ottomotor 1 5 L/110KW TSI Grundmotor ist: TJ7/N09/T9F, Nebelschlussleuchten, Nichtraucherausführung, Radstand, Doppeltonfanfare, Serienfahrwerk, 4 Türen, Modellbezeichnung gemäß neuer Leistungskennzeichnung, Warnleuchten, Zierleisten schwarz, Nichtraucherfahrzeug, Irrtümer Änderungen und Zwischenverkauf vorbehalten, sehr guter Zustand, Komfortklima, Aussenspiegel heizbar, elektrische Aussenspiegel, geteilte Rückbank, Scheckheft gepflegt, Fahrersitz höhenverstellbar, Beifahrersitz höhenverstellbar, \\n]                                                                                                                                                                                                                                                                                                                                                                                                                                                                        1\n",
      "[\\nDEK:[2691331], Renault Espace Blue dCi 200CV EDC Business, Nuova da Immatricolare, COLORE: Grigio Titanio, INTERNO: Pelle+Tessuto, TRASMISSIONE: Cambio Automatico EDC, ---, ACCESSORI: , 7 Posti, , , Cerchi in Lega 17, Navigatore con Display 8.7, Clima Automatico, Sensori di Parcheggio Anteriori e Posteriori con Retrocamera, Fari Full LED Pure Vision, Cruise Control, Renault Multisense, ---, Listino Nuovo 44.300 Euro, Prezzo Gruppo Carmeli: 39.700 Euro (Esclusa IPT e Messa in Strada), IVA Esposta, In caso di Adesione alla PROMO GRUPPO CARMELI puoi Averla a 36.000 Euro, Contattaci per scoprire tutti i vantaggi della PROMO GRUPPO CARMELI, ____________________________________, Gruppo Carmeli S.p.A. è Concessionaria e Service ufficiale dei Marchi Renault, Dacia, Nissan, Mercedes e Smart per la provincia di Brescia e Bergamo ed opera nel mercato dell’auto da più di 40 anni., Nelle sedi di Brescia (Nissan e Renault-Dacia Autospazio), di Coccaglio (Renault-Dacia e Nissan) e di Bergamo (Nissan) oltre a tutta la gamma di veicoli dei Marchi rappresentati, propone anche 2.000 auto a Km Zero e Aziendali di tutte le marche., Offriamo Servizi:, -VALUTAZIONE e PERMUTA del tuo USATO, -ACQUISTO con pagamento immediato del tuo USATO, -FINANZIAMENTI e LEASING agevolati, -NOLEGGIO A LUNGO TERMINE di veicoli di tutte le marche, -PACCHETTI ASSICURATIVI su misura con possibilità di garanzia del valore a Nuovo, ____________________________________, Sebbene sia stato fatto ogni ragionevole sforzo per assicurare l'esattezza delle informazioni riportate, vi potrebbero essere involontarie incongruenze riguardanti le immagini e la descrizione degli accessori, che pertanto non rappresentano vincolo contrattuale. Per ulteriori informazioni sulle condizioni economiche ti invitiamo a contattarci., \\n]                                                                                                                                                                                                                                                                                                                                                                                                                                                                                                                                                                                                                                                                                                                                                                                                                   1\n",
      "Name: description, Length: 12874, dtype: int64\n",
      "******************************\n",
      "\n",
      "\n",
      "\n",
      "column name :  Emission Label\n",
      "--------------------------------\n",
      "Per_of_Nulls   :  % 74.97\n",
      "Num_of_Nulls   :  11934\n",
      "NaN                     11934\n",
      "[\\n4 (Green)\\n]          3553\n",
      "[\\n1 (No sticker)\\n]      381\n",
      "[[], [], []]               40\n",
      "[\\n5 (Blue)\\n]              8\n",
      "[\\n3 (Yellow)\\n]            2\n",
      "[\\n2 (Red)\\n]               1\n",
      "Name: Emission Label, dtype: int64\n",
      "******************************\n",
      "\n",
      "\n",
      "\n",
      "column name :  Gears\n",
      "--------------------------------\n",
      "Per_of_Nulls   :  % 29.6\n",
      "Num_of_Nulls   :  4712\n",
      "[\\n6\\n]     5822\n",
      "NaN         4712\n",
      "[\\n5\\n]     3239\n",
      "[\\n7\\n]     1908\n",
      "[\\n8\\n]      224\n",
      "[\\n9\\n]        6\n",
      "[\\n1\\n]        2\n",
      "[\\n3\\n]        2\n",
      "[\\n4\\n]        2\n",
      "[\\n2\\n]        1\n",
      "[\\n50\\n]       1\n",
      "Name: Gears, dtype: int64\n",
      "******************************\n",
      "\n",
      "\n",
      "\n",
      "column name :  Country version\n",
      "--------------------------------\n",
      "Per_of_Nulls   :  % 52.35\n",
      "Num_of_Nulls   :  8333\n",
      "NaN                     8333\n",
      "[\\nGermany\\n]           4502\n",
      "[\\nItaly\\n]             1038\n",
      "[\\nEuropean Union\\n]     507\n",
      "[\\nNetherlands\\n]        464\n",
      "[\\nSpain\\n]              325\n",
      "[\\nBelgium\\n]            314\n",
      "[\\nAustria\\n]            208\n",
      "[\\nCzech Republic\\n]      52\n",
      "[\\nPoland\\n]              49\n",
      "[\\nFrance\\n]              38\n",
      "[\\nDenmark\\n]             33\n",
      "[\\nHungary\\n]             28\n",
      "[\\nJapan\\n]                8\n",
      "[\\nSlovakia\\n]             4\n",
      "[\\nCroatia\\n]              4\n",
      "[\\nSweden\\n]               3\n",
      "[\\nRomania\\n]              2\n",
      "[\\nBulgaria\\n]             2\n",
      "[\\nLuxembourg\\n]           1\n",
      "[\\nSwitzerland\\n]          1\n",
      "[\\nSlovenia\\n]             1\n",
      "[\\nEgypt\\n]                1\n",
      "[\\nSerbia\\n]               1\n",
      "Name: Country version, dtype: int64\n",
      "******************************\n",
      "\n",
      "\n",
      "\n",
      "column name :  Electricity consumption\n",
      "--------------------------------\n",
      "Per_of_Nulls   :  % 99.14\n",
      "Num_of_Nulls   :  15782\n",
      "NaN                          15782\n",
      "[\\n0 kWh/100 km (comb)\\n]      137\n",
      "Name: Electricity consumption, dtype: int64\n",
      "******************************\n",
      "\n",
      "\n",
      "\n",
      "column name :  Last Service Date\n",
      "--------------------------------\n",
      "Per_of_Nulls   :  % 96.44\n",
      "Num_of_Nulls   :  15353\n",
      "NaN                                       15353\n",
      "[\\n02/2019\\n, \\nEuro 6\\n]                    23\n",
      "[\\n05/2019\\n, \\nEuro 6\\n]                    16\n",
      "[\\n01/2018\\n, \\n118 g CO2/km (comb)\\n]       15\n",
      "[\\n03/2019\\n, \\nEuro 6\\n]                    15\n",
      "                                          ...  \n",
      "[\\n01/2017\\n, \\n95 g CO2/km (comb)\\n]         1\n",
      "[\\n06/2019\\n, \\n87 g CO2/km (comb)\\n]         1\n",
      "[\\n10/2018\\n, \\n100 g CO2/km (comb)\\n]        1\n",
      "[\\n02/2018\\n, \\n97 g CO2/km (comb)\\n]         1\n",
      "[\\n03/2019\\n, \\n120 g CO2/km (comb)\\n]        1\n",
      "Name: Last Service Date, Length: 267, dtype: int64\n",
      "******************************\n",
      "\n",
      "\n",
      "\n",
      "column name :  Other Fuel Types\n",
      "--------------------------------\n",
      "Per_of_Nulls   :  % 94.47\n",
      "Num_of_Nulls   :  15039\n",
      "NaN             15039\n",
      "[[], [], []]      880\n",
      "Name: Other Fuel Types, dtype: int64\n",
      "******************************\n",
      "\n",
      "\n",
      "\n",
      "column name :  Availability\n",
      "--------------------------------\n",
      "Per_of_Nulls   :  % 96.01\n",
      "Num_of_Nulls   :  15284\n",
      "NaN                              15284\n",
      "\\nin 90 days from ordering\\n       196\n",
      "\\nin 120 days from ordering\\n      182\n",
      "\\nin 1 day from ordering\\n          51\n",
      "\\nin 5 days from ordering\\n         35\n",
      "\\nin 3 days from ordering\\n         35\n",
      "\\nin 180 days from ordering\\n       24\n",
      "\\nin 14 days from ordering\\n        24\n",
      "\\nin 7 days from ordering\\n         20\n",
      "\\nin 150 days from ordering\\n       18\n",
      "\\nin 2 days from ordering\\n         16\n",
      "\\nin 60 days from ordering\\n        13\n",
      "\\nin 42 days from ordering\\n        10\n",
      "\\nin 21 days from ordering\\n         8\n",
      "\\nin 4 days from ordering\\n          2\n",
      "\\nin 6 days from ordering\\n          1\n",
      "Name: Availability, dtype: int64\n",
      "******************************\n",
      "\n",
      "\n",
      "\n",
      "column name :  Last Timing Belt Service Date\n",
      "--------------------------------\n",
      "Per_of_Nulls   :  % 99.9\n",
      "Num_of_Nulls   :  15903\n",
      "NaN                          15903\n",
      "[\\n04/2016\\n]                    2\n",
      "[\\n12/1900\\n]                    1\n",
      "[\\n07/2018\\n]                    1\n",
      "[\\n01/1900\\n]                    1\n",
      "[\\n05/2019\\n]                    1\n",
      "[\\n09/2018\\n]                    1\n",
      "[\\n05/2018\\n, \\nEuro 6\\n]        1\n",
      "[\\n06/2017\\n]                    1\n",
      "[\\n01/2019\\n]                    1\n",
      "[\\n02/2019\\n]                    1\n",
      "[\\n02/2018\\n]                    1\n",
      "[\\n06/2019\\n]                    1\n",
      "[\\n01/2018\\n]                    1\n",
      "[\\n04/2019\\n]                    1\n",
      "[\\n01/1970\\n]                    1\n",
      "Name: Last Timing Belt Service Date, dtype: int64\n",
      "******************************\n",
      "\n",
      "\n",
      "\n",
      "column name :  Available from\n",
      "--------------------------------\n",
      "Per_of_Nulls   :  % 98.29\n",
      "Num_of_Nulls   :  15647\n",
      "NaN             15647\n",
      "\\n31/08/19\\n       98\n",
      "\\n30/07/19\\n       25\n",
      "\\n15/08/19\\n       24\n",
      "\\n16/09/19\\n       14\n",
      "\\n29/06/19\\n       12\n",
      "\\n01/07/19\\n       11\n",
      "\\n28/06/19\\n       10\n",
      "\\n19/08/19\\n        7\n",
      "\\n10/09/19\\n        6\n",
      "\\n26/06/19\\n        5\n",
      "\\n27/06/19\\n        5\n",
      "\\n10/11/19\\n        5\n",
      "\\n08/07/19\\n        4\n",
      "\\n15/07/19\\n        3\n",
      "\\n25/10/19\\n        3\n",
      "\\n01/08/19\\n        3\n",
      "\\n04/07/19\\n        2\n",
      "\\n05/08/19\\n        2\n",
      "\\n24/08/19\\n        2\n",
      "\\n16/07/19\\n        2\n",
      "\\n20/07/19\\n        2\n",
      "\\n05/07/19\\n        2\n",
      "\\n30/06/19\\n        2\n",
      "\\n30/09/19\\n        1\n",
      "\\n31/10/19\\n        1\n",
      "\\n27/07/19\\n        1\n",
      "\\n02/07/19\\n        1\n",
      "\\n10/07/19\\n        1\n",
      "\\n19/07/19\\n        1\n",
      "\\n24/07/19\\n        1\n",
      "\\n29/07/19\\n        1\n",
      "\\n29/09/19\\n        1\n",
      "\\n18/08/19\\n        1\n",
      "\\n14/09/19\\n        1\n",
      "\\n18/07/19\\n        1\n",
      "\\n16/08/19\\n        1\n",
      "\\n24/09/19\\n        1\n",
      "\\n17/08/19\\n        1\n",
      "\\n10/10/19\\n        1\n",
      "\\n06/12/19\\n        1\n",
      "\\n03/12/19\\n        1\n",
      "\\n05/12/19\\n        1\n",
      "\\n11/08/19\\n        1\n",
      "\\n10/12/19\\n        1\n",
      "\\n01/09/19\\n        1\n",
      "\\n03/08/19\\n        1\n",
      "Name: Available from, dtype: int64\n",
      "******************************\n",
      "\n",
      "\n",
      "\n"
     ]
    }
   ],
   "source": [
    "for col in df.columns :\n",
    "    check_df(col)"
   ]
  },
  {
   "cell_type": "code",
   "execution_count": 10,
   "metadata": {},
   "outputs": [],
   "source": [
    "# !pip install skimpy\n",
    "from skimpy import clean_columns\n",
    "# columns = df.columns\n",
    "# messy_df = pd.DataFrame(data = [], columns = columns, index = [0])\n",
    "# print(messy_df)\n",
    "# clean_df = clean_columns(messy_df)\n",
    "# clean_df.columns.tolist()"
   ]
  },
  {
   "cell_type": "code",
   "execution_count": 11,
   "metadata": {},
   "outputs": [
    {
     "data": {
      "text/html": [
       "<pre style=\"white-space:pre;overflow-x:auto;line-height:normal;font-family:Menlo,'DejaVu Sans Mono',consolas,'Courier New',monospace\"><span style=\"color: #008080; text-decoration-color: #008080; font-weight: bold\">42</span> column names have been cleaned\n",
       "</pre>\n"
      ],
      "text/plain": [
       "\u001b[1;36m42\u001b[0m column names have been cleaned\n"
      ]
     },
     "metadata": {},
     "output_type": "display_data"
    }
   ],
   "source": [
    "df = clean_columns(df)"
   ]
  },
  {
   "cell_type": "code",
   "execution_count": 12,
   "metadata": {},
   "outputs": [
    {
     "data": {
      "text/plain": [
       "Index(['url', 'make_model', 'short_description', 'body_type', 'price', 'vat',\n",
       "       'km', 'registration', 'prev_owner', 'k_w', 'hp', 'type',\n",
       "       'previous_owners', 'next_inspection', 'inspection_new', 'warranty',\n",
       "       'full_service', 'non_smoking_vehicle', 'null', 'make', 'model',\n",
       "       'offer_number', 'first_registration', 'body_color', 'paint_type',\n",
       "       'body_color_original', 'upholstery', 'body', 'nr_of_doors',\n",
       "       'nr_of_seats', 'model_code', 'gearing_type', 'displacement',\n",
       "       'cylinders', 'weight', 'drive_chain', 'fuel', 'consumption',\n",
       "       'co_2_emission', 'emission_class', 'comfort_&_convenience',\n",
       "       'entertainment_&_media', 'extras', 'safety_&_security', 'description',\n",
       "       'emission_label', 'gears', 'country_version', 'electricity_consumption',\n",
       "       'last_service_date', 'other_fuel_types', 'availability',\n",
       "       'last_timing_belt_service_date', 'available_from'],\n",
       "      dtype='object')"
      ]
     },
     "execution_count": 12,
     "metadata": {},
     "output_type": "execute_result"
    }
   ],
   "source": [
    "df.columns"
   ]
  },
  {
   "cell_type": "code",
   "execution_count": 13,
   "metadata": {},
   "outputs": [],
   "source": [
    "df.rename(columns = {\"k_w\" : \"kW\", \n",
    "                   \"co_2_emission\" : \"co2_emisiion\",\n",
    "                   \"comfort_&_convenience\" : \"comfort&convenience\",\n",
    "                   \"entertainment_&_media\" : \"entertainment&media\",\n",
    "                   \"safety_&_security\" : \"safety&security\"},inplace=True\n",
    "                   )"
   ]
  },
  {
   "cell_type": "code",
   "execution_count": 14,
   "metadata": {},
   "outputs": [
    {
     "data": {
      "text/plain": [
       "Index(['url', 'make_model', 'short_description', 'body_type', 'price', 'vat',\n",
       "       'km', 'registration', 'prev_owner', 'kW', 'hp', 'type',\n",
       "       'previous_owners', 'next_inspection', 'inspection_new', 'warranty',\n",
       "       'full_service', 'non_smoking_vehicle', 'null', 'make', 'model',\n",
       "       'offer_number', 'first_registration', 'body_color', 'paint_type',\n",
       "       'body_color_original', 'upholstery', 'body', 'nr_of_doors',\n",
       "       'nr_of_seats', 'model_code', 'gearing_type', 'displacement',\n",
       "       'cylinders', 'weight', 'drive_chain', 'fuel', 'consumption',\n",
       "       'co2_emisiion', 'emission_class', 'comfort&convenience',\n",
       "       'entertainment&media', 'extras', 'safety&security', 'description',\n",
       "       'emission_label', 'gears', 'country_version', 'electricity_consumption',\n",
       "       'last_service_date', 'other_fuel_types', 'availability',\n",
       "       'last_timing_belt_service_date', 'available_from'],\n",
       "      dtype='object')"
      ]
     },
     "execution_count": 14,
     "metadata": {},
     "output_type": "execute_result"
    }
   ],
   "source": [
    "df.columns"
   ]
  },
  {
   "cell_type": "markdown",
   "metadata": {},
   "source": [
    "**1.url**"
   ]
  },
  {
   "cell_type": "code",
   "execution_count": 15,
   "metadata": {},
   "outputs": [
    {
     "data": {
      "text/plain": [
       "https://www.autoscout24.com//offers/audi-a1-sportback-1-4-tdi-s-tronic-xenon-navi-klima-diesel-black-bdab349a-caa5-41b0-98eb-c1345b84445e                  1\n",
       "https://www.autoscout24.com//offers/opel-insignia-bus-inno-2-0-cdti-aut-navi-bi-xe-led-e6-diesel-black-8710b253-dd98-4ed0-9d46-cbad2d79532b                1\n",
       "https://www.autoscout24.com//offers/opel-insignia-sport-tourer-opel-sport-tourer-1-6-cdti-136-ch-a-c-diesel-silver-10b7463b-9f56-4348-af35-df3432b2b585    1\n",
       "https://www.autoscout24.com//offers/opel-insignia-2-0cdti-st-business-innovation-navi-bt-diesel-black-ba5a3368-dedc-4e51-9127-3976b26e93c2                 1\n",
       "https://www.autoscout24.com//offers/opel-insignia-sport-tourer-opel-sport-tourer-1-6-cdti-136-ch-a-c-diesel-silver-7b52f054-78d3-4d5e-9370-8a7d081d7edd    1\n",
       "                                                                                                                                                          ..\n",
       "https://www.autoscout24.com//offers/audi-a3-sb-30-1-6-tdi-business-116cv-s-tronic-diesel-black-cf50f7b1-4d7b-466f-93a2-4e11ec0b4107                        1\n",
       "https://www.autoscout24.com//offers/audi-a3-sb-30-1-6-tdi-business-116cv-s-tronic-diesel-grey-3f47eb34-15c4-4763-860d-78fcbbd2c9ff                         1\n",
       "https://www.autoscout24.com//offers/audi-a3-sb-30-1-6-tdi-business-116cv-s-tronic-diesel-silver-f7a4bc95-b2ef-4bac-9497-6bcbcd05db0b                       1\n",
       "https://www.autoscout24.com//offers/audi-a3-sb-30-1-6-tdi-business-116cv-s-tronic-diesel-silver-1c94c7a2-67b5-49ca-ae42-42a6800fb3f5                       1\n",
       "https://www.autoscout24.com//offers/renault-espace-initiale-paris-tce-225-edc-gpf-navi-shz-aux-gasoline-grey-0bd690d9-7e93-4cab-bc5a-9d5b63402481          1\n",
       "Name: url, Length: 15919, dtype: int64"
      ]
     },
     "execution_count": 15,
     "metadata": {},
     "output_type": "execute_result"
    }
   ],
   "source": [
    "df.url.value_counts()"
   ]
  },
  {
   "cell_type": "code",
   "execution_count": 16,
   "metadata": {},
   "outputs": [
    {
     "data": {
      "text/plain": [
       "15919"
      ]
     },
     "execution_count": 16,
     "metadata": {},
     "output_type": "execute_result"
    }
   ],
   "source": [
    "df.url.nunique()"
   ]
  },
  {
   "cell_type": "markdown",
   "metadata": {},
   "source": [
    "**2.make_model**"
   ]
  },
  {
   "cell_type": "code",
   "execution_count": 17,
   "metadata": {},
   "outputs": [
    {
     "data": {
      "text/plain": [
       "Audi A3           3097\n",
       "Audi A1           2614\n",
       "Opel Insignia     2598\n",
       "Opel Astra        2526\n",
       "Opel Corsa        2219\n",
       "Renault Clio      1839\n",
       "Renault Espace     991\n",
       "Renault Duster      34\n",
       "Audi A2              1\n",
       "Name: make_model, dtype: int64"
      ]
     },
     "execution_count": 17,
     "metadata": {},
     "output_type": "execute_result"
    }
   ],
   "source": [
    "df.make_model.value_counts()"
   ]
  },
  {
   "cell_type": "code",
   "execution_count": 18,
   "metadata": {},
   "outputs": [
    {
     "data": {
      "text/plain": [
       "0"
      ]
     },
     "execution_count": 18,
     "metadata": {},
     "output_type": "execute_result"
    }
   ],
   "source": [
    "df.make_model.isnull().sum()"
   ]
  },
  {
   "cell_type": "markdown",
   "metadata": {},
   "source": [
    "**3.short_description**"
   ]
  },
  {
   "cell_type": "code",
   "execution_count": 19,
   "metadata": {},
   "outputs": [
    {
     "data": {
      "text/plain": [
       "SPB 1.6 TDI 116 CV S tronic Sport                 64\n",
       "1.4 66kW (90CV) Selective                         40\n",
       "MOVE KLIMA CD USB ALLWETTER BLUETOOTH             38\n",
       "SPB 30 TDI S tronic Business                      35\n",
       "SPB 30 TFSI S tronic Admired                      35\n",
       "                                                  ..\n",
       "K Sports Tourer Business **Navi*Voll**             1\n",
       "1.0 Turbo ecoFLEX Automatic Elective Park Navi     1\n",
       "1.6 CDTI Business *Navi*Automatik*Spurh.*          1\n",
       "1.6 136 CV Automatica Navi E 6 Garanzia Full       1\n",
       "TCe 225 EDC GPF LIM Deluxe Pano,RFK                1\n",
       "Name: short_description, Length: 10001, dtype: int64"
      ]
     },
     "execution_count": 19,
     "metadata": {},
     "output_type": "execute_result"
    }
   ],
   "source": [
    "df.short_description.value_counts()"
   ]
  },
  {
   "cell_type": "code",
   "execution_count": 20,
   "metadata": {},
   "outputs": [
    {
     "data": {
      "text/plain": [
       "46"
      ]
     },
     "execution_count": 20,
     "metadata": {},
     "output_type": "execute_result"
    }
   ],
   "source": [
    "df.short_description.isnull().sum()"
   ]
  },
  {
   "cell_type": "code",
   "execution_count": 21,
   "metadata": {},
   "outputs": [
    {
     "data": {
      "text/plain": [
       "10001"
      ]
     },
     "execution_count": 21,
     "metadata": {},
     "output_type": "execute_result"
    }
   ],
   "source": [
    "df.short_description.nunique()"
   ]
  },
  {
   "cell_type": "markdown",
   "metadata": {},
   "source": [
    "**4.body_type**"
   ]
  },
  {
   "cell_type": "code",
   "execution_count": 22,
   "metadata": {},
   "outputs": [
    {
     "data": {
      "text/plain": [
       "Sedans           7903\n",
       "Station wagon    3553\n",
       "Compact          3153\n",
       "Van               783\n",
       "Other             290\n",
       "Transporter        88\n",
       "Off-Road           56\n",
       "Coupe              25\n",
       "Convertible         8\n",
       "Name: body_type, dtype: int64"
      ]
     },
     "execution_count": 22,
     "metadata": {},
     "output_type": "execute_result"
    }
   ],
   "source": [
    "df.body_type.value_counts()"
   ]
  },
  {
   "cell_type": "code",
   "execution_count": 23,
   "metadata": {},
   "outputs": [
    {
     "data": {
      "text/plain": [
       "60"
      ]
     },
     "execution_count": 23,
     "metadata": {},
     "output_type": "execute_result"
    }
   ],
   "source": [
    "df.body_type.isnull().sum()"
   ]
  },
  {
   "cell_type": "code",
   "execution_count": 24,
   "metadata": {},
   "outputs": [
    {
     "data": {
      "text/plain": [
       "9"
      ]
     },
     "execution_count": 24,
     "metadata": {},
     "output_type": "execute_result"
    }
   ],
   "source": [
    "df.body_type.nunique()"
   ]
  },
  {
   "cell_type": "markdown",
   "metadata": {},
   "source": [
    "**5.price**\n"
   ]
  },
  {
   "cell_type": "code",
   "execution_count": 25,
   "metadata": {},
   "outputs": [
    {
     "data": {
      "text/plain": [
       "14990    154\n",
       "15990    151\n",
       "10990    139\n",
       "15900    106\n",
       "17990    102\n",
       "        ... \n",
       "17559      1\n",
       "17560      1\n",
       "17570      1\n",
       "17575      1\n",
       "39875      1\n",
       "Name: price, Length: 2956, dtype: int64"
      ]
     },
     "execution_count": 25,
     "metadata": {},
     "output_type": "execute_result"
    }
   ],
   "source": [
    "df.price.value_counts()"
   ]
  },
  {
   "cell_type": "code",
   "execution_count": 26,
   "metadata": {},
   "outputs": [
    {
     "data": {
      "text/plain": [
       "2956"
      ]
     },
     "execution_count": 26,
     "metadata": {},
     "output_type": "execute_result"
    }
   ],
   "source": [
    "df.price.nunique()"
   ]
  },
  {
   "cell_type": "code",
   "execution_count": 27,
   "metadata": {},
   "outputs": [
    {
     "data": {
      "text/plain": [
       "0"
      ]
     },
     "execution_count": 27,
     "metadata": {},
     "output_type": "execute_result"
    }
   ],
   "source": [
    "df.price.isnull().sum()"
   ]
  },
  {
   "cell_type": "markdown",
   "metadata": {},
   "source": [
    "**6.vat**"
   ]
  },
  {
   "cell_type": "markdown",
   "metadata": {},
   "source": [
    "vat deductiable:?\n",
    "price negotiable:?"
   ]
  },
  {
   "cell_type": "code",
   "execution_count": 28,
   "metadata": {},
   "outputs": [
    {
     "data": {
      "text/plain": [
       "VAT deductible      10980\n",
       "Price negotiable      426\n",
       "Name: vat, dtype: int64"
      ]
     },
     "execution_count": 28,
     "metadata": {},
     "output_type": "execute_result"
    }
   ],
   "source": [
    "df.vat.value_counts()"
   ]
  },
  {
   "cell_type": "code",
   "execution_count": 29,
   "metadata": {},
   "outputs": [
    {
     "data": {
      "text/plain": [
       "4513"
      ]
     },
     "execution_count": 29,
     "metadata": {},
     "output_type": "execute_result"
    }
   ],
   "source": [
    "df.vat.isnull().sum()"
   ]
  },
  {
   "cell_type": "markdown",
   "metadata": {},
   "source": [
    "**7.km**"
   ]
  },
  {
   "cell_type": "code",
   "execution_count": 30,
   "metadata": {},
   "outputs": [
    {
     "data": {
      "text/plain": [
       "10 km        1045\n",
       "- km         1024\n",
       "1 km          367\n",
       "5 km          170\n",
       "50 km         148\n",
       "             ... \n",
       "67,469 km       1\n",
       "43,197 km       1\n",
       "10,027 km       1\n",
       "35,882 km       1\n",
       "57 km           1\n",
       "Name: km, Length: 6690, dtype: int64"
      ]
     },
     "execution_count": 30,
     "metadata": {},
     "output_type": "execute_result"
    }
   ],
   "source": [
    "df.km.value_counts()"
   ]
  },
  {
   "cell_type": "code",
   "execution_count": 31,
   "metadata": {},
   "outputs": [
    {
     "data": {
      "text/plain": [
       "0"
      ]
     },
     "execution_count": 31,
     "metadata": {},
     "output_type": "execute_result"
    }
   ],
   "source": [
    "df.km.isnull().sum()"
   ]
  },
  {
   "cell_type": "markdown",
   "metadata": {},
   "source": [
    "**8.registration**"
   ]
  },
  {
   "cell_type": "code",
   "execution_count": 32,
   "metadata": {},
   "outputs": [
    {
     "data": {
      "text/plain": [
       "-/-        1597\n",
       "03/2018     695\n",
       "02/2019     585\n",
       "05/2018     572\n",
       "03/2019     543\n",
       "01/2019     541\n",
       "04/2018     541\n",
       "02/2018     539\n",
       "03/2016     536\n",
       "04/2016     532\n",
       "06/2018     532\n",
       "01/2018     511\n",
       "04/2019     506\n",
       "02/2016     472\n",
       "03/2017     471\n",
       "05/2016     459\n",
       "06/2016     452\n",
       "05/2019     440\n",
       "06/2017     409\n",
       "05/2017     404\n",
       "07/2018     396\n",
       "04/2017     380\n",
       "01/2016     376\n",
       "02/2017     368\n",
       "01/2017     306\n",
       "08/2018     285\n",
       "06/2019     224\n",
       "07/2017     215\n",
       "11/2017     180\n",
       "07/2016     176\n",
       "10/2016     160\n",
       "10/2017     154\n",
       "09/2017     149\n",
       "11/2016     142\n",
       "09/2018     141\n",
       "09/2016     141\n",
       "12/2016     134\n",
       "12/2017     123\n",
       "08/2017     114\n",
       "11/2018     110\n",
       "12/2018     103\n",
       "10/2018      97\n",
       "08/2016      94\n",
       "07/2019       6\n",
       "09/2019       5\n",
       "08/2019       1\n",
       "11/2019       1\n",
       "12/2019       1\n",
       "Name: registration, dtype: int64"
      ]
     },
     "execution_count": 32,
     "metadata": {},
     "output_type": "execute_result"
    }
   ],
   "source": [
    "df.registration.value_counts()"
   ]
  },
  {
   "cell_type": "code",
   "execution_count": 33,
   "metadata": {},
   "outputs": [
    {
     "data": {
      "text/plain": [
       "0"
      ]
     },
     "execution_count": 33,
     "metadata": {},
     "output_type": "execute_result"
    }
   ],
   "source": [
    "df.registration.isnull().sum()\n"
   ]
  },
  {
   "cell_type": "markdown",
   "metadata": {},
   "source": [
    "**9.prev_owner**"
   ]
  },
  {
   "cell_type": "code",
   "execution_count": 34,
   "metadata": {},
   "outputs": [
    {
     "data": {
      "text/plain": [
       "1 previous owner     8294\n",
       "2 previous owners     778\n",
       "3 previous owners      17\n",
       "4 previous owners       2\n",
       "Name: prev_owner, dtype: int64"
      ]
     },
     "execution_count": 34,
     "metadata": {},
     "output_type": "execute_result"
    }
   ],
   "source": [
    "df.prev_owner.value_counts()"
   ]
  },
  {
   "cell_type": "code",
   "execution_count": 35,
   "metadata": {},
   "outputs": [
    {
     "data": {
      "text/plain": [
       "6828"
      ]
     },
     "execution_count": 35,
     "metadata": {},
     "output_type": "execute_result"
    }
   ],
   "source": [
    "df.prev_owner.isnull().sum()"
   ]
  },
  {
   "cell_type": "markdown",
   "metadata": {},
   "source": [
    "**10.kW**"
   ]
  },
  {
   "cell_type": "code",
   "execution_count": 36,
   "metadata": {},
   "outputs": [
    {
     "data": {
      "text/plain": [
       "15919"
      ]
     },
     "execution_count": 36,
     "metadata": {},
     "output_type": "execute_result"
    }
   ],
   "source": [
    "df.kW.isnull().sum()"
   ]
  },
  {
   "cell_type": "markdown",
   "metadata": {},
   "source": [
    "**11.hp**"
   ]
  },
  {
   "cell_type": "code",
   "execution_count": 37,
   "metadata": {},
   "outputs": [
    {
     "data": {
      "text/plain": [
       "85 kW     2542\n",
       "66 kW     2122\n",
       "81 kW     1402\n",
       "100 kW    1308\n",
       "110 kW    1112\n",
       "          ... \n",
       "84 kW        1\n",
       "195 kW       1\n",
       "44 kW        1\n",
       "239 kW       1\n",
       "9 kW         1\n",
       "Name: hp, Length: 81, dtype: int64"
      ]
     },
     "execution_count": 37,
     "metadata": {},
     "output_type": "execute_result"
    }
   ],
   "source": [
    "df.hp.value_counts()"
   ]
  },
  {
   "cell_type": "code",
   "execution_count": 38,
   "metadata": {},
   "outputs": [
    {
     "data": {
      "text/plain": [
       "81"
      ]
     },
     "execution_count": 38,
     "metadata": {},
     "output_type": "execute_result"
    }
   ],
   "source": [
    "df.hp.nunique()"
   ]
  },
  {
   "cell_type": "code",
   "execution_count": 39,
   "metadata": {},
   "outputs": [
    {
     "data": {
      "text/plain": [
       "0"
      ]
     },
     "execution_count": 39,
     "metadata": {},
     "output_type": "execute_result"
    }
   ],
   "source": [
    "df.hp.isnull().sum()"
   ]
  },
  {
   "cell_type": "markdown",
   "metadata": {},
   "source": [
    "**12.Type**"
   ]
  },
  {
   "cell_type": "code",
   "execution_count": 40,
   "metadata": {},
   "outputs": [
    {
     "ename": "AttributeError",
     "evalue": "'DataFrame' object has no attribute 'Type'",
     "output_type": "error",
     "traceback": [
      "\u001b[1;31m---------------------------------------------------------------------------\u001b[0m",
      "\u001b[1;31mAttributeError\u001b[0m                            Traceback (most recent call last)",
      "\u001b[1;32mc:\\Users\\federal\\Desktop\\GitHub\\MyProject\\Expolatory Data Analysis(EDA) Capstone Project-Scout Car\\Capstone Project-(AutoScout)-Student.ipynb Hücre 57\u001b[0m in \u001b[0;36m<module>\u001b[1;34m\u001b[0m\n\u001b[1;32m----> <a href='vscode-notebook-cell:/c%3A/Users/federal/Desktop/GitHub/MyProject/Expolatory%20Data%20Analysis%28EDA%29%20Capstone%20Project-Scout%20Car/Capstone%20Project-%28AutoScout%29-Student.ipynb#ch0000055?line=0'>1</a>\u001b[0m df\u001b[39m.\u001b[39;49mType\u001b[39m.\u001b[39mvalue_counts()\n",
      "File \u001b[1;32m~\\AppData\\Roaming\\Python\\Python310\\site-packages\\pandas\\core\\generic.py:5583\u001b[0m, in \u001b[0;36mNDFrame.__getattr__\u001b[1;34m(self, name)\u001b[0m\n\u001b[0;32m   5576\u001b[0m \u001b[39mif\u001b[39;00m (\n\u001b[0;32m   5577\u001b[0m     name \u001b[39mnot\u001b[39;00m \u001b[39min\u001b[39;00m \u001b[39mself\u001b[39m\u001b[39m.\u001b[39m_internal_names_set\n\u001b[0;32m   5578\u001b[0m     \u001b[39mand\u001b[39;00m name \u001b[39mnot\u001b[39;00m \u001b[39min\u001b[39;00m \u001b[39mself\u001b[39m\u001b[39m.\u001b[39m_metadata\n\u001b[0;32m   5579\u001b[0m     \u001b[39mand\u001b[39;00m name \u001b[39mnot\u001b[39;00m \u001b[39min\u001b[39;00m \u001b[39mself\u001b[39m\u001b[39m.\u001b[39m_accessors\n\u001b[0;32m   5580\u001b[0m     \u001b[39mand\u001b[39;00m \u001b[39mself\u001b[39m\u001b[39m.\u001b[39m_info_axis\u001b[39m.\u001b[39m_can_hold_identifiers_and_holds_name(name)\n\u001b[0;32m   5581\u001b[0m ):\n\u001b[0;32m   5582\u001b[0m     \u001b[39mreturn\u001b[39;00m \u001b[39mself\u001b[39m[name]\n\u001b[1;32m-> 5583\u001b[0m \u001b[39mreturn\u001b[39;00m \u001b[39mobject\u001b[39;49m\u001b[39m.\u001b[39;49m\u001b[39m__getattribute__\u001b[39;49m(\u001b[39mself\u001b[39;49m, name)\n",
      "\u001b[1;31mAttributeError\u001b[0m: 'DataFrame' object has no attribute 'Type'"
     ]
    }
   ],
   "source": [
    "df.Type.value_counts()"
   ]
  },
  {
   "cell_type": "code",
   "execution_count": null,
   "metadata": {},
   "outputs": [
    {
     "data": {
      "text/plain": [
       "2"
      ]
     },
     "execution_count": 34,
     "metadata": {},
     "output_type": "execute_result"
    }
   ],
   "source": [
    "df.Type.isnull().sum()"
   ]
  },
  {
   "cell_type": "markdown",
   "metadata": {},
   "source": [
    "**13.previous_owners**\n"
   ]
  },
  {
   "cell_type": "code",
   "execution_count": null,
   "metadata": {},
   "outputs": [
    {
     "data": {
      "text/plain": [
       "\\n1\\n                                                                                        8101\n",
       "\\n2\\n                                                                                         766\n",
       "\\n0\\n                                                                                         163\n",
       "\\n3\\n                                                                                          17\n",
       "[\\n1\\n, \\n168 g CO2/km (comb)\\n]                                                               13\n",
       "                                                                                             ... \n",
       "[\\n1\\n, \\n111 g CO2/km (comb)\\n]                                                                1\n",
       "[\\n1\\n, \\nEuro 6\\n]                                                                             1\n",
       "[\\n2\\n, \\n119 g CO2/km (comb)\\n]                                                                1\n",
       "[\\n1\\n, \\n, 6.6 l/100 km (comb), \\n, 8.1 l/100 km (city), \\n, 5.7 l/100 km (country), \\n]       1\n",
       "[\\n1\\n, \\n142 g CO2/km (comb)\\n]                                                                1\n",
       "Name: previous_owners, Length: 102, dtype: int64"
      ]
     },
     "execution_count": 46,
     "metadata": {},
     "output_type": "execute_result"
    }
   ],
   "source": [
    "df.previous_owners.value_counts()"
   ]
  },
  {
   "cell_type": "code",
   "execution_count": null,
   "metadata": {},
   "outputs": [
    {
     "data": {
      "text/plain": [
       "Index(['url', 'make_model', 'short_description', 'body_type', 'price', 'vat',\n",
       "       'km', 'registration', 'prev_owner', 'kW', 'hp', 'type',\n",
       "       'previous_owners', 'next_inspection', 'inspection_new', 'warranty',\n",
       "       'full_service', 'non_smoking_vehicle', 'null', 'make', 'model',\n",
       "       'offer_number', 'first_registration', 'body_color', 'paint_type',\n",
       "       'body_color_original', 'upholstery', 'body', 'nr_of_doors',\n",
       "       'nr_of_seats', 'model_code', 'gearing_type', 'displacement',\n",
       "       'cylinders', 'weight', 'drive_chain', 'fuel', 'consumption',\n",
       "       'co2_emisiion', 'emission_class', 'comfort&convenience',\n",
       "       'entertainment&media', 'extras', 'safety&security', 'description',\n",
       "       'emission_label', 'gears', 'country_version', 'electricity_consumption',\n",
       "       'last_service_date', 'other_fuel_types', 'availability',\n",
       "       'last_timing_belt_service_date', 'available_from'],\n",
       "      dtype='object')"
      ]
     },
     "execution_count": 45,
     "metadata": {},
     "output_type": "execute_result"
    }
   ],
   "source": [
    "df.columns"
   ]
  },
  {
   "cell_type": "code",
   "execution_count": null,
   "metadata": {},
   "outputs": [],
   "source": []
  },
  {
   "cell_type": "code",
   "execution_count": null,
   "metadata": {},
   "outputs": [],
   "source": []
  },
  {
   "cell_type": "code",
   "execution_count": null,
   "metadata": {},
   "outputs": [],
   "source": []
  },
  {
   "cell_type": "code",
   "execution_count": null,
   "metadata": {},
   "outputs": [],
   "source": []
  },
  {
   "cell_type": "code",
   "execution_count": null,
   "metadata": {},
   "outputs": [],
   "source": []
  },
  {
   "cell_type": "code",
   "execution_count": null,
   "metadata": {},
   "outputs": [],
   "source": []
  },
  {
   "cell_type": "markdown",
   "metadata": {
    "id": "uGeKSdYds1MD"
   },
   "source": [
    "# PART- 2 `( Handling With Missing Vales )`"
   ]
  },
  {
   "cell_type": "code",
   "execution_count": null,
   "metadata": {
    "id": "WDZnqBhbs1ME"
   },
   "outputs": [],
   "source": []
  },
  {
   "cell_type": "markdown",
   "metadata": {
    "id": "gPPdPAu5s1ME"
   },
   "source": [
    "# PART- 3 `( Handling With Outliers )`"
   ]
  },
  {
   "cell_type": "code",
   "execution_count": null,
   "metadata": {
    "id": "Is4HLjHWs1MF"
   },
   "outputs": [],
   "source": []
  },
  {
   "cell_type": "markdown",
   "metadata": {
    "id": "EKxmsgfts1MG"
   },
   "source": [
    "# Final Step (Checking final situation of data via graphs)"
   ]
  },
  {
   "cell_type": "code",
   "execution_count": null,
   "metadata": {
    "id": "8mgL_Bd0s1MG"
   },
   "outputs": [],
   "source": []
  },
  {
   "cell_type": "markdown",
   "metadata": {
    "id": "2PgUVPoes1MH"
   },
   "source": [
    "## Export dataframe to csv file (without dummy)"
   ]
  },
  {
   "cell_type": "code",
   "execution_count": null,
   "metadata": {
    "id": "Byg_o2ZMs1MI"
   },
   "outputs": [],
   "source": [
    "df.to_csv(\"final_scout_not_dummy.csv\", index=False)"
   ]
  },
  {
   "cell_type": "markdown",
   "metadata": {
    "id": "hrw9hr-3s1MJ"
   },
   "source": [
    "# Dummy Operation"
   ]
  },
  {
   "cell_type": "code",
   "execution_count": null,
   "metadata": {
    "id": "faDyWTC9s1MJ"
   },
   "outputs": [],
   "source": []
  },
  {
   "cell_type": "markdown",
   "metadata": {
    "id": "DUOdihlqs1MJ"
   },
   "source": [
    "## Export dataframe to csv file (dummy)"
   ]
  },
  {
   "cell_type": "code",
   "execution_count": null,
   "metadata": {
    "id": "IJT7Yl1Us1MK"
   },
   "outputs": [
    {
     "ename": "NameError",
     "evalue": "name 'df_dummied' is not defined",
     "output_type": "error",
     "traceback": [
      "\u001b[1;31m---------------------------------------------------------------------------\u001b[0m",
      "\u001b[1;31mNameError\u001b[0m                                 Traceback (most recent call last)",
      "\u001b[1;32mc:\\Users\\federal\\Desktop\\GitHub\\MyProject\\Expolatory Data Analysis(EDA) Capstone Project-Scout Car\\Capstone Project-(AutoScout)-Student.ipynb Hücre 64\u001b[0m in \u001b[0;36m<module>\u001b[1;34m\u001b[0m\n\u001b[1;32m----> <a href='vscode-notebook-cell:/c%3A/Users/federal/Desktop/GitHub/MyProject/Expolatory%20Data%20Analysis%28EDA%29%20Capstone%20Project-Scout%20Car/Capstone%20Project-%28AutoScout%29-Student.ipynb#ch0000063?line=0'>1</a>\u001b[0m df_dummied\u001b[39m.\u001b[39mto_csv(\u001b[39m\"\u001b[39m\u001b[39mfinal_scout_dummy.csv\u001b[39m\u001b[39m\"\u001b[39m, index\u001b[39m=\u001b[39m\u001b[39mFalse\u001b[39;00m)\n",
      "\u001b[1;31mNameError\u001b[0m: name 'df_dummied' is not defined"
     ]
    }
   ],
   "source": [
    "df_dummied.to_csv(\"final_scout_dummy.csv\", index=False)"
   ]
  }
 ],
 "metadata": {
  "colab": {
   "name": "DAwPy-Capstone_Project_(AutoScout)_Student.ipynb",
   "provenance": []
  },
  "kernelspec": {
   "display_name": "Python 3.10.2 64-bit",
   "language": "python",
   "name": "python3"
  },
  "language_info": {
   "codemirror_mode": {
    "name": "ipython",
    "version": 3
   },
   "file_extension": ".py",
   "mimetype": "text/x-python",
   "name": "python",
   "nbconvert_exporter": "python",
   "pygments_lexer": "ipython3",
   "version": "3.10.2"
  },
  "vscode": {
   "interpreter": {
    "hash": "7f2268373c59de7c4cf8b7b218e988e8031541b7ae73002a3c029a60d52fa35d"
   }
  }
 },
 "nbformat": 4,
 "nbformat_minor": 1
}
